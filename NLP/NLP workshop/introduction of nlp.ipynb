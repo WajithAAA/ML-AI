{
 "cells": [
  {
   "cell_type": "code",
   "execution_count": null,
   "metadata": {},
   "outputs": [],
   "source": []
  }
 ],
 "metadata": {
  "kernelspec": {
   "display_name": "Python 3.9.12 ('base')",
   "language": "python",
   "name": "python3"
  },
  "language_info": {
   "name": "python",
   "version": "3.9.12"
  },
  "orig_nbformat": 4,
  "vscode": {
   "interpreter": {
    "hash": "1cbc55c5a6e242aa26c4444892c76c3fa137d09b0cc2c583a0044c6feee99c32"
   }
  }
 },
 "nbformat": 4,
 "nbformat_minor": 2
}
