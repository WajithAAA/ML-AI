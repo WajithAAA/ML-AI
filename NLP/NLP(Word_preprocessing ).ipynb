{
 "cells": [
  {
   "cell_type": "markdown",
   "metadata": {},
   "source": [
    "# Natural Language Processing"
   ]
  },
  {
   "cell_type": "markdown",
   "metadata": {},
   "source": [
    "# This notebook is for Text prepocessing using NLTK library\n",
    "# Here we follow the processes to clean the textual data for our final output database\n",
    "1. Import needed libraries\n",
    "2. Open text file\n",
    "3. remove newlines, join the text based of advertise & normalize (lowercase) the text\n",
    "4. Contractions Replacement & Replace Important text for variable.\n",
    "5. Punctuations Removal\n",
    "6. tokenize the word, stop words & custom words removal\n",
    "7. Repeating characters removal (Typeing errors Ex: Bedrooom - Bedroom)\n",
    "8. Check the spelling of words and correct them\n",
    "9. Merge the tokenize text to list\n",
    "10. Replace word numbers to integer numbers\n",
    "11. Lemmitizations"
   ]
  },
  {
   "cell_type": "markdown",
   "metadata": {},
   "source": [
    "# Libararies"
   ]
  },
  {
   "cell_type": "code",
   "execution_count": null,
   "metadata": {},
   "outputs": [
    {
     "ename": "",
     "evalue": "",
     "output_type": "error",
     "traceback": [
      "\u001b[1;31mFailed to start the Kernel. \n",
      "Unable to start Kernel 'base (Python 3.7.6)' due to connection timeout. \n",
      "View Jupyter <a href='command:jupyter.viewOutput'>log</a> for further details."
     ]
    }
   ],
   "source": [
    "from nltk.tokenize import word_tokenize\n",
    "import matplotlib.pyplot as plt\n",
    "import re\n",
    "from nltk.corpus import stopwords\n",
    "from itertools import groupby"
   ]
  },
  {
   "cell_type": "code",
   "execution_count": 3,
   "metadata": {},
   "outputs": [],
   "source": [
    "# Open text file\n",
    "with open(r\"D:\\R & D PROJECT\\Test_text\\Test_Text.txt\", \"r\") as filename:\n",
    "    advertise_lines = filename.readlines()"
   ]
  },
  {
   "cell_type": "markdown",
   "metadata": {},
   "source": [
    "# Text Preprocessing"
   ]
  },
  {
   "cell_type": "code",
   "execution_count": 4,
   "metadata": {},
   "outputs": [
    {
     "data": {
      "text/plain": [
       "['new line\\n',\n",
       " 'TWO STOREY HOUSE FOR SALE - NEGONBO\\n',\n",
       " '\\n',\n",
       " 'Two storey air conditioned house for sale\\n',\n",
       " '\\n',\n",
       " 'at Thushara Mawatha. 2 mins to Negombo\\n',\n",
       " '\\n',\n",
       " 'Colombo Road. 5 mins to Negombo Town.\\n',\n",
       " 'Lobby, Living, Dinning,-Ki Kitchen Pantry, Balcony\\n',\n",
       " '\\n',\n",
       " '4 bed rooms, 3 bathrooms; 3000 sq feet, solar\\n',\n",
       " 'power hot water’ ‘system nmatap water with upper\\n',\n",
       " '& down tanks, Garbage service 3 times a week\\n',\n",
       " 'Land area 12 perches\\n',\n",
       " 'PRICE - 28000000/= Negotiable\\n',\n",
       " '\\n',\n",
       " 'TEL : 076 53312545\\n',\n",
       " '\\n']"
      ]
     },
     "execution_count": 4,
     "metadata": {},
     "output_type": "execute_result"
    }
   ],
   "source": [
    "advertise_lines[:18]"
   ]
  },
  {
   "cell_type": "markdown",
   "metadata": {},
   "source": [
    "# Normalize text & Remove new lines"
   ]
  },
  {
   "cell_type": "code",
   "execution_count": 5,
   "metadata": {},
   "outputs": [],
   "source": [
    "# Join the lines and Remove punctuation\n",
    "newline = \"\\n\".join ([line.strip() for line in advertise_lines])\n",
    "combine_ad_lst = []\n",
    "for line in newline.split(\"new line\"):\n",
    "    if not line.strip():\n",
    "            continue\n",
    "    combine_ad_lst.append(line.lstrip().lower())\n",
    "ad_list = [new.replace(\"\\n\", \" \") for new in combine_ad_lst]"
   ]
  },
  {
   "cell_type": "code",
   "execution_count": 6,
   "metadata": {},
   "outputs": [
    {
     "data": {
      "text/plain": [
       "['two storey house for sale - negonbo  two storey air conditioned house for sale  at thushara mawatha. 2 mins to negombo  colombo road. 5 mins to negombo town. lobby, living, dinning,-ki kitchen pantry, balcony  4 bed rooms, 3 bathrooms; 3000 sq feet, solar power hot water’ ‘system nmatap water with upper & down tanks, garbage service 3 times a week land area 12 perches price - 28000000/= negotiable  tel : 076 53312545   ',\n",
       " 'ratmalana  house for sale  ratmalana - borupana road 11.8 perches land and house for sale. 3 bedrooms, 2 toilets (one attached) hall, dining hal!, pantry and kitchen.  wall right round with front garden, rear garden and with two court yards walking distance to cargills super and kdu. rs. 32 million, negotiable. no brokers, only genuine buyers.  077°38 90 545   ',\n",
       " 'katubedda  pbalwis perera mawatha, 300 m from galle road, 4 spacious bedrooms, 2 attached bathrooms, large living and dining area, spacious pantry, outside extra  kitchen, toilet, garage, parapet wall around 19 perches. asking price 360 lakhs. inspection by appointment only    oyvar ery aey(e) ',\n",
       " 'modern luxury house for rent in colombo -6  e 2500sa.ft * 4bedrooms with a/c * 3bathrooms with hot t water  « parking for 2 with  rollef shutter gate. iz unfurnished upstair ‘house i: e rent 225k pm - negotiable.  ¢ garden & backyard available.  contact: 0773867704 —   ',\n",
       " 'kotagedara - piliyandala  modern house, 2 bedroomed in 6p, complete a/c, cctv, wiremesh with razor blades arround. the boundary wall, wall cupboards in tws vo beara, rol roller gate, fully tiled. i  the upper floor complete with slab for immediate sale, 3 owner migrating. bathroom one with shower cubicle and servants wash room.  077 7 668 357  kotagedara, piliyandala.   ']"
      ]
     },
     "execution_count": 6,
     "metadata": {},
     "output_type": "execute_result"
    }
   ],
   "source": [
    "ad_list[:5]"
   ]
  },
  {
   "cell_type": "code",
   "execution_count": 7,
   "metadata": {},
   "outputs": [
    {
     "data": {
      "text/plain": [
       "178"
      ]
     },
     "execution_count": 7,
     "metadata": {},
     "output_type": "execute_result"
    }
   ],
   "source": [
    "len(ad_list)"
   ]
  },
  {
   "cell_type": "markdown",
   "metadata": {},
   "source": [
    "# Contractions replacement "
   ]
  },
  {
   "cell_type": "code",
   "execution_count": 8,
   "metadata": {},
   "outputs": [],
   "source": [
    "replacement_patterns = [\n",
    "                (r'won\\'t', 'will not'),\n",
    "                (r'can\\'t', 'cannot'),\n",
    "                (r'i\\'m', 'i am'),\n",
    "                (r'ain\\'t', 'is not'),\n",
    "                (r'(\\w+)\\'ll', '\\g<1> will'),\n",
    "                (r'(\\w+)n\\'t', '\\g<1> not'),\n",
    "                (r'(\\w+)\\'ve', '\\g<1> have'),\n",
    "                (r'(\\w+)\\'s', '\\g<1> is'),\n",
    "                (r'(\\w+)\\'re', '\\g<1> are'),\n",
    "                (r'(\\w+)\\'d', '\\g<1> would')\n",
    "                ]"
   ]
  },
  {
   "cell_type": "code",
   "execution_count": 9,
   "metadata": {},
   "outputs": [],
   "source": [
    "class RegexpReplacer(object):\n",
    "    def __init__(self, patterns=replacement_patterns):\n",
    "        self.patterns = [(re.compile(regex), repl) for (regex, repl) in patterns]\n",
    "    \n",
    "    def replace(self, text):\n",
    "        s = text\n",
    "        for (pattern, repl) in self.patterns:\n",
    "            s = re.sub(pattern, repl, s)\n",
    "        return s\n",
    "\n",
    "replacer = RegexpReplacer()\n",
    "cont_rep_lst = [replacer.replace(contraction) for contraction in ad_list]"
   ]
  },
  {
   "cell_type": "code",
   "execution_count": 10,
   "metadata": {},
   "outputs": [
    {
     "data": {
      "text/plain": [
       "'ratmalana  house for sale  ratmalana - borupana road 11.8 perches land and house for sale. 3 bedrooms, 2 toilets (one attached) hall, dining hal!, pantry and kitchen.  wall right round with front garden, rear garden and with two court yards walking distance to cargills super and kdu. rs. 32 million, negotiable. no brokers, only genuine buyers.  077°38 90 545   '"
      ]
     },
     "execution_count": 10,
     "metadata": {},
     "output_type": "execute_result"
    }
   ],
   "source": [
    "cont_rep_lst[1]"
   ]
  },
  {
   "cell_type": "markdown",
   "metadata": {},
   "source": [
    "# Punctuations"
   ]
  },
  {
   "cell_type": "code",
   "execution_count": 11,
   "metadata": {},
   "outputs": [
    {
     "data": {
      "text/plain": [
       "'!\"#$%&\\'()*+,-./:;<=>?@[\\\\]^_`{|}~'"
      ]
     },
     "execution_count": 11,
     "metadata": {},
     "output_type": "execute_result"
    }
   ],
   "source": [
    "import string\n",
    "string.punctuation"
   ]
  },
  {
   "cell_type": "code",
   "execution_count": 12,
   "metadata": {},
   "outputs": [],
   "source": [
    "def clean(punlist):\n",
    "    punc_clean_lst = []\n",
    "    punc = '''!\"#$%&\\'()*+,-‘/:;<=>?@[\\\\]^_`¢{|}~«»—©®°'''\n",
    "    for text in punlist:\n",
    "        text_punc = \"\".join([word for word in text if word not in punc])\n",
    "        singl_char = ' '.join( [re.sub(r\"\\b[a-zA-Z]\\b\", \"\", w) for w in text_punc.split()]) # remove singel string character only \n",
    "        num_char = re.sub(r'(?<=\\d) (?=\\d)', '', singl_char)\n",
    "        punc_clean_lst.append(num_char)\n",
    "    return punc_clean_lst\n",
    "punc_clean_lst=clean(cont_rep_lst)"
   ]
  },
  {
   "cell_type": "code",
   "execution_count": 13,
   "metadata": {},
   "outputs": [
    {
     "data": {
      "text/plain": [
       "['two storey house for sale negonbo two storey air conditioned house for sale at thushara mawatha. 2 mins to negombo colombo road. 5 mins to negombo town. lobby living dinningki kitchen pantry balcony 4 bed rooms 3 bathrooms 3000 sq feet solar power hot water’ system nmatap water with upper down tanks garbage service 3 times  week land area 12 perches price 28000000 negotiable tel 07653312545',\n",
       " 'ratmalana house for sale ratmalana borupana road 11.8 perches land and house for sale. 3 bedrooms 2 toilets one attached hall dining hal pantry and kitchen. wall right round with front garden rear garden and with two court yards walking distance to cargills super and kdu. rs. 32 million negotiable. no brokers only genuine buyers. 0773890545',\n",
       " 'katubedda pbalwis perera mawatha 300  from galle road 4 spacious bedrooms 2 attached bathrooms large living and dining area spacious pantry outside extra kitchen toilet garage parapet wall around 19 perches. asking price 360 lakhs. inspection by appointment only oyvar ery aeye',\n",
       " 'modern luxury house for rent in colombo 6  2500sa.ft 4bedrooms with ac 3bathrooms with hot  water parking for 2 with rollef shutter gate. iz unfurnished upstair house   rent 225k pm negotiable. garden backyard available. contact 0773867704',\n",
       " 'kotagedara piliyandala modern house 2 bedroomed in 6p complete ac cctv wiremesh with razor blades arround. the boundary wall wall cupboards in tws vo beara rol roller gate fully tiled.  the upper floor complete with slab for immediate sale 3 owner migrating. bathroom one with shower cubicle and servants wash room. 0777668357 kotagedara piliyandala.']"
      ]
     },
     "execution_count": 13,
     "metadata": {},
     "output_type": "execute_result"
    }
   ],
   "source": [
    "punc_clean_lst[:5]"
   ]
  },
  {
   "cell_type": "code",
   "execution_count": null,
   "metadata": {},
   "outputs": [],
   "source": [
    "\n"
   ]
  },
  {
   "cell_type": "markdown",
   "metadata": {},
   "source": [
    "# Word tokenize and Stop word removal"
   ]
  },
  {
   "cell_type": "code",
   "execution_count": 14,
   "metadata": {},
   "outputs": [],
   "source": [
    "custom_stop = ['sale','rent','land','phone','date','email','please','call','details','sri' ,'lanka','style','beautiful','modern','contact','attached','new','brand','negotiable']"
   ]
  },
  {
   "cell_type": "code",
   "execution_count": 15,
   "metadata": {},
   "outputs": [],
   "source": [
    "def preprocessing(textlist):\n",
    "\n",
    "    word_token =[]\n",
    "    for lists in textlist:\n",
    "        word_token.append(word_tokenize(lists))\n",
    "\n",
    "    \n",
    "    tokenized_word = [[] for i in range(len(word_token))]\n",
    "    stop = stopwords.words('english')\n",
    "    stop.extend(custom_stop)\n",
    "    for i in range(len(word_token)):\n",
    "        for lst in word_token[i]: \n",
    "            if lst not in stop:\n",
    "                tokenized_word[i].append(lst)\n",
    "                \n",
    "    return tokenized_word\n",
    "tokenize_list=preprocessing(punc_clean_lst)\n",
    "col_cleaned_list = [lst for lst in tokenize_list if len(lst)>15] # 2 pages pdf splited as 2 images so remove non content set\n",
    "cont_num_trim_list = [[s[:10] if s.isdigit() else s for s in sub] for sub in col_cleaned_list]"
   ]
  },
  {
   "cell_type": "code",
   "execution_count": 16,
   "metadata": {},
   "outputs": [
    {
     "name": "stdout",
     "output_type": "stream",
     "text": [
      "['ratmalana', 'house', 'ratmalana', 'borupana', 'road', '11.8', 'perches', 'house', '.', '3', 'bedrooms', '2', 'toilets', 'one', 'hall', 'dining', 'hal', 'pantry', 'kitchen', '.', 'wall', 'right', 'round', 'front', 'garden', 'rear', 'garden', 'two', 'court', 'yards', 'walking', 'distance', 'cargills', 'super', 'kdu', '.', 'rs', '.', '32', 'million', '.', 'brokers', 'genuine', 'buyers', '.', '0773890545']\n"
     ]
    }
   ],
   "source": [
    "print(cont_num_trim_list[1])"
   ]
  },
  {
   "cell_type": "markdown",
   "metadata": {},
   "source": [
    "# Separate the numbers and sting from the list"
   ]
  },
  {
   "cell_type": "code",
   "execution_count": 17,
   "metadata": {},
   "outputs": [
    {
     "name": "stdout",
     "output_type": "stream",
     "text": [
      "['ratmalana', 'house', 'ratmalana', 'borupana', 'road', '11.8', 'perches', 'house', '.', '3', 'bedrooms', '2', 'toilets', 'one', 'hall', 'dining', 'hal', 'pantry', 'kitchen', '.', 'wall', 'right', 'round', 'front', 'garden', 'rear', 'garden', 'two', 'court', 'yards', 'walking', 'distance', 'cargills', 'super', 'kdu', '.', 'rs', '.', '32', 'million', '.', 'brokers', 'genuine', 'buyers', '.', '0773890545']\n"
     ]
    }
   ],
   "source": [
    "sep_num_char_lst = []\n",
    "for lsts in cont_num_trim_list:\n",
    "    charnum_lst = [[''.join(g) for _, g in groupby(num_char, str.isalpha)] for num_char in lsts]\n",
    "    comp_lst = [char for sep_char in charnum_lst for char in sep_char]\n",
    "    sep_num_char_lst.append(comp_lst)\n",
    "print(sep_num_char_lst[1])"
   ]
  },
  {
   "cell_type": "code",
   "execution_count": 18,
   "metadata": {},
   "outputs": [],
   "source": [
    "#uniq_val_lst = [list(set(lst)) for lst in prepros_list]    #unique characters"
   ]
  },
  {
   "cell_type": "markdown",
   "metadata": {},
   "source": [
    "# Repeating Charactors"
   ]
  },
  {
   "cell_type": "code",
   "execution_count": 19,
   "metadata": {},
   "outputs": [],
   "source": [
    "import re\n",
    "from nltk.corpus import wordnet\n",
    "class RepeatReplacer(object):\n",
    "    def __init__(self):\n",
    "        self.repeat_regexp = re.compile(r'(\\[a-zA-Z]*)(\\[a-zA-Z])\\2(\\[a-zA-Z]*)')    # 0 or more repeat char in first, middle and last\n",
    "        self.repl = r'\\1\\2\\3'\n",
    "    def replace(self, word):\n",
    "        if wordnet.synsets(word):\n",
    "            return word\n",
    "        repl_word = self.repeat_regexp.sub(self.repl, word)\n",
    "        if repl_word != word:\n",
    "            return self.replace(repl_word)\n",
    "        else:\n",
    "            return repl_word"
   ]
  },
  {
   "cell_type": "code",
   "execution_count": 20,
   "metadata": {},
   "outputs": [
    {
     "name": "stdout",
     "output_type": "stream",
     "text": [
      "['ratmalana', 'house', 'ratmalana', 'borupana', 'road', '11.8', 'perches', 'house', '.', '3', 'bedrooms', '2', 'toilets', 'one', 'hall', 'dining', 'hal', 'pantry', 'kitchen', '.', 'wall', 'right', 'round', 'front', 'garden', 'rear', 'garden', 'two', 'court', 'yards', 'walking', 'distance', 'cargills', 'super', 'kdu', '.', 'rs', '.', '32', 'million', '.', 'brokers', 'genuine', 'buyers', '.', '0773890545']\n"
     ]
    }
   ],
   "source": [
    "rep_replacer = RepeatReplacer()\n",
    "rep_char_cleaned_lst = [[rep_replacer.replace(txt) for txt in lst] for lst in sep_num_char_lst]\n",
    "print(rep_char_cleaned_lst[1])"
   ]
  },
  {
   "cell_type": "markdown",
   "metadata": {},
   "source": [
    "# Spelling checking"
   ]
  },
  {
   "cell_type": "code",
   "execution_count": 21,
   "metadata": {},
   "outputs": [],
   "source": [
    "#!pip install pyenchant"
   ]
  },
  {
   "cell_type": "code",
   "execution_count": 22,
   "metadata": {},
   "outputs": [],
   "source": [
    "import enchant\n",
    "from nltk.metrics import edit_distance\n",
    "class SpellingReplacer(object):\n",
    "    def __init__(self, dict_name='en_GB', max_dist=2):\n",
    "        self.spell_dict = enchant.Dict(dict_name)\n",
    "        self.max_dist = max_dist\n",
    "    def replace(self, word):\n",
    "        if self.spell_dict.check(word):\n",
    "            return word\n",
    "        suggestions = self.spell_dict.suggest(word)\n",
    "        if suggestions and edit_distance(word, suggestions[0]) <= self.max_dist:\n",
    "            return suggestions[0]\n",
    "        else:\n",
    "            return word"
   ]
  },
  {
   "cell_type": "code",
   "execution_count": 23,
   "metadata": {},
   "outputs": [
    {
     "name": "stdout",
     "output_type": "stream",
     "text": [
      "['ratmalana', 'house', 'ratmalana', 'borupana', 'road', '11.8', 'perches', 'house', '.', '3', 'bedrooms', '2', 'toilets', 'one', 'hall', 'dining', 'Hal', 'pantry', 'kitchen', '.', 'wall', 'right', 'round', 'front', 'garden', 'rear', 'garden', 'two', 'court', 'yards', 'walking', 'distance', 'car gills', 'super', 'kudu', '.', 'rs', '.', '32', 'million', '.', 'brokers', 'genuine', 'buyers', '.', '0773890545']\n"
     ]
    }
   ],
   "source": [
    "spel_replacer = SpellingReplacer()\n",
    "spell_corr_lst = [[spel_replacer .replace(txt) for txt in lst] for lst in rep_char_cleaned_lst]\n",
    "print(spell_corr_lst[1])"
   ]
  },
  {
   "cell_type": "markdown",
   "metadata": {},
   "source": [
    "# Lemmatizing"
   ]
  },
  {
   "cell_type": "code",
   "execution_count": 24,
   "metadata": {},
   "outputs": [],
   "source": [
    "from textblob import Word\n",
    "lem_text = [[] for i in range(len(spell_corr_lst))]\n",
    "for i in range(len(spell_corr_lst)):\n",
    "    for word in spell_corr_lst[i]:\n",
    "        txt = Word(word).lemmatize()\n",
    "        lem_text[i].append(txt)"
   ]
  },
  {
   "cell_type": "code",
   "execution_count": 25,
   "metadata": {},
   "outputs": [
    {
     "name": "stdout",
     "output_type": "stream",
     "text": [
      "['ratmalana', 'house', 'ratmalana', 'borupana', 'road', '11.8', 'perch', 'house', '.', '3', 'bedroom', '2', 'toilet', 'one', 'hall', 'dining', 'Hal', 'pantry', 'kitchen', '.', 'wall', 'right', 'round', 'front', 'garden', 'rear', 'garden', 'two', 'court', 'yard', 'walking', 'distance', 'car gills', 'super', 'kudu', '.', 'r', '.', '32', 'million', '.', 'broker', 'genuine', 'buyer', '.', '0773890545']\n"
     ]
    }
   ],
   "source": [
    "print(lem_text[1])"
   ]
  },
  {
   "cell_type": "markdown",
   "metadata": {},
   "source": [
    "# Merge Tokenize words"
   ]
  },
  {
   "cell_type": "code",
   "execution_count": 26,
   "metadata": {},
   "outputs": [],
   "source": [
    "def untokenize(ad_lsts):\n",
    "    untokized_lst = []\n",
    "    for lst in ad_lsts:\n",
    "        text = ' '.join(lst)\n",
    "        step1 = text.replace(\"`` \", '\"').replace(\" ''\", '\"')\n",
    "        step2 = re.sub(r' ([.,:;?!%]+)([ \\'\"`])', r\"\\1\\2\", step1)\n",
    "        untokized_lst.append(step2.strip())\n",
    "    return untokized_lst"
   ]
  },
  {
   "cell_type": "code",
   "execution_count": 27,
   "metadata": {},
   "outputs": [
    {
     "data": {
      "text/plain": [
       "['two storey house negonbo two storey air conditioned house thushara Hiawatha. 2 mind negombo Colombo road. 5 mind negombo town. lobby living dinning ki kitchen pantry balcony 4 bed room 3 bathroom 3000 sq foot solar power hot water e system nmatap water upper tank garbage service 3 time week area 12 perch price 28000000 tel 0765331254',\n",
       " 'ratmalana house ratmalana borupana road 11.8 perch house. 3 bedroom 2 toilet one hall dining Hal pantry kitchen. wall right round front garden rear garden two court yard walking distance car gills super kudu. r. 32 million. broker genuine buyer. 0773890545',\n",
       " 'katubedda pbalwis per era Hiawatha 300 Galle road 4 spacious bedroom 2 bathroom large living dining area spacious pantry outside extra kitchen toilet garage parapet wall around 19 perch. asking price 360 lakh. inspection appointment ovary wry aye',\n",
       " 'luxury house Colombo 6 2500 SA. ft 4 bedroom ac 3 bathroom hot water parking 2 rolled shutter gate. oz unfurnished upstairs house 225 k pm. garden backyard available. 0773867704',\n",
       " 'kotagedara piliyandala house 2 bed roomed 6 p complete ac cctv wire mesh razor blade around. boundary wall wall cupboard t vo bear role roller gate fully tiled. upper floor complete slab immediate 3 owner migrating. bathroom one shower cubicle servant wash room. 0777668357 kotagedara piliyandala .']"
      ]
     },
     "execution_count": 27,
     "metadata": {},
     "output_type": "execute_result"
    }
   ],
   "source": [
    "untokenized_lst=untokenize(lem_text)\n",
    "untokenized_lst[:5]"
   ]
  },
  {
   "cell_type": "markdown",
   "metadata": {},
   "source": [
    "# Custom words replacement"
   ]
  },
  {
   "cell_type": "code",
   "execution_count": 28,
   "metadata": {},
   "outputs": [],
   "source": [
    "custom_word = [ (r'\\smn', 'million'),\n",
    "                (r'\\d\\smillion','000000'),\n",
    "                 (r'sq\\sft', 'sqft'),\n",
    "                 (r'sq\\sfoot', 'sqft'),\n",
    "                 (r'fast', 'sqft'),\n",
    "                 (r'sift', 'sqft'),\n",
    "                (r'lkh', 'lakh'),\n",
    "                (r'lakh', '00000'),\n",
    "                (r'bn', 'billion'),\n",
    "                (r'barth', 'bath'),\n",
    "                (r'bath\\sroom', 'bathroom'),\n",
    "                (r'bed\\sroom', 'bedroom'),\n",
    "                (r'toilet', 'bathroom'),\n",
    "                (r'wash\\sroom', 'bathroom')\n",
    "          ]"
   ]
  },
  {
   "cell_type": "code",
   "execution_count": 29,
   "metadata": {},
   "outputs": [],
   "source": [
    "class CustomReplacer(object):\n",
    "    def __init__(self, patterns=custom_word):\n",
    "        self.patterns = [(re.compile(regex), repl) for (regex, repl) in patterns]\n",
    "    \n",
    "    def replace(self, text):\n",
    "        s = text\n",
    "        for (pattern, repl) in self.patterns:\n",
    "            s = re.sub(pattern, repl, s)\n",
    "        return s\n",
    "\n",
    "replacer = CustomReplacer()\n",
    "costum_word_rep_lst = [replacer.replace(contraction) for contraction in untokenized_lst]"
   ]
  },
  {
   "cell_type": "code",
   "execution_count": 30,
   "metadata": {},
   "outputs": [
    {
     "data": {
      "text/plain": [
       "['two storey house negonbo two storey air conditioned house thushara Hiawatha. 2 mind negombo Colombo road. 5 mind negombo town. lobby living dinning ki kitchen pantry balcony 4 bedroom 3 bathroom 3000 sqft solar power hot water e system nmatap water upper tank garbage service 3 time week area 12 perch price 28000000 tel 0765331254',\n",
       " 'ratmalana house ratmalana borupana road 11.8 perch house. 3 bedroom 2 bathroom one hall dining Hal pantry kitchen. wall right round front garden rear garden two court yard walking distance car gills super kudu. r. 3000000. broker genuine buyer. 0773890545',\n",
       " 'katubedda pbalwis per era Hiawatha 300 Galle road 4 spacious bedroom 2 bathroom large living dining area spacious pantry outside extra kitchen bathroom garage parapet wall around 19 perch. asking price 360 00000. inspection appointment ovary wry aye',\n",
       " 'luxury house Colombo 6 2500 SA. ft 4 bedroom ac 3 bathroom hot water parking 2 rolled shutter gate. oz unfurnished upstairs house 225 k pm. garden backyard available. 0773867704',\n",
       " 'kotagedara piliyandala house 2 bedroomed 6 p complete ac cctv wire mesh razor blade around. boundary wall wall cupboard t vo bear role roller gate fully tiled. upper floor complete slab immediate 3 owner migrating. bathroom one shower cubicle servant bathroom. 0777668357 kotagedara piliyandala .',\n",
       " 'thalawathugoda 7.5 perch 3100 sqft e 2 foe hanagrohe fug hogan pantile 168 price e 3. provision fer cctv. Deena 38 m tegossne 20 h road broker',\n",
       " 'luxury house. . house desalts 425 perch 8500 sq. ft. malm house ground floor double garage security roomy sitting dinning pantry Chechen servant room bathroom bedroom 3 toll sun din first floor cree e TV bothy two room tolgty master rect ar cone in bait solar power. annex one parking vehicle location second floor dinning sitting pantry servant room bathroom one room tolled master bedroom bathroom plus attic air conditioned solar power. miscount 5000000 furniture tr ego e 0772626549',\n",
       " 'Colombo 05 exclusive residential area 10 perch. 5 bedroom 4 bathroom separate servant room bathroom. covered parking 2 vehicle. quick highest bid. 0718287756',\n",
       " 'Anuradhapura near wilpattu junction luxury house garden migrate ad ideal fully tied house 4 bedroom 02 bathroom garden filled 8 coconut tree 3 king coconut jack fruit bread fruit fruit mango nellee cherry papaya cashew passion fruit. house 110 perch surrounding air port fencing solar power hot water master bedroom air conditioned aa 171519002 m 9 f domshegilyahoo. om',\n",
       " '7 g delkanda nugegoda architectural designed. 7 spacious bedroom 5 bathroom 2 living room large kitchen sp private garden sea entrance 2 ND floor could used 2 unit. business property house 19 perch close proximity high level road 5 udahamulia railway station sri jayawardenepura university bank grocery. 8477040155 trave']"
      ]
     },
     "execution_count": 30,
     "metadata": {},
     "output_type": "execute_result"
    }
   ],
   "source": [
    "costum_word_rep_lst[:10]"
   ]
  },
  {
   "cell_type": "markdown",
   "metadata": {},
   "source": [
    "# Replace word numbers as integer numbers"
   ]
  },
  {
   "cell_type": "code",
   "execution_count": 31,
   "metadata": {},
   "outputs": [],
   "source": [
    "def text2int(textnum, numwords={}):\n",
    "    if not numwords:\n",
    "        units = [\n",
    "        \"zero\", \"one\", \"two\", \"three\", \"four\", \"five\", \"six\", \"seven\", \"eight\",\n",
    "        \"nine\", \"ten\", \"eleven\", \"twelve\", \"thirteen\", \"fourteen\", \"fifteen\",\n",
    "        \"sixteen\", \"seventeen\", \"eighteen\", \"nineteen\",\n",
    "        ]\n",
    "\n",
    "        tens = [\"\", \"\", \"twenty\", \"thirty\", \"forty\", \"fifty\", \"sixty\", \"seventy\", \"eighty\", \"ninety\"]\n",
    "\n",
    "        scales = [\"hundred\", \"thousand\", \"million\", \"billion\", \"trillion\"]\n",
    "\n",
    "        numwords[\"and\"] = (1, 0)\n",
    "        for idx, word in enumerate(units):numwords[word] = (1, idx)\n",
    "        for idx, word in enumerate(tens):numwords[word] = (1, idx * 10)\n",
    "        for idx, word in enumerate(scales):numwords[word] = (10 ** (idx * 3 or 2), 0)\n",
    "\n",
    "    ordinal_words = {'first':1, 'second':2, 'third':3, 'fifth':5, 'eighth':8, 'ninth':9, 'twelfth':12}\n",
    "    ordinal_endings = [('ieth', 'y'), ('th', '')]\n",
    "\n",
    "    textnum = textnum.replace('-', ' ')\n",
    "\n",
    "    current = result = 0\n",
    "    curstring = \"\"\n",
    "    onnumber = False\n",
    "    for word in textnum.split():\n",
    "        if word in ordinal_words:\n",
    "            scale, increment = (1, ordinal_words[word])\n",
    "            current = current * scale + increment\n",
    "            if scale > 100:\n",
    "                result += current\n",
    "                current = 0\n",
    "            onnumber = True\n",
    "        else:\n",
    "            for ending, replacement in ordinal_endings:\n",
    "                if word.endswith(ending):\n",
    "                    word = \"%s%s\" % (word[:-len(ending)], replacement)\n",
    "\n",
    "            if word not in numwords:\n",
    "                if onnumber:\n",
    "                    curstring += repr(result + current) + \" \"\n",
    "                curstring += word + \" \"\n",
    "                result = current = 0\n",
    "                onnumber = False\n",
    "            else:\n",
    "                scale, increment = numwords[word]\n",
    "\n",
    "                current = current * scale + increment\n",
    "                if scale > 100:\n",
    "                    result += current\n",
    "                    current = 0\n",
    "                onnumber = True\n",
    "\n",
    "    if onnumber:\n",
    "        curstring += repr(result + current)\n",
    "\n",
    "    return curstring\n",
    "final_preprocessed_lst = [text2int(text) for text in costum_word_rep_lst] "
   ]
  },
  {
   "cell_type": "code",
   "execution_count": 39,
   "metadata": {},
   "outputs": [
    {
     "data": {
      "text/plain": [
       "['2 storey house negonbo 2 storey air conditioned house thushara Hiawatha. 2 mind negombo Colombo road. 5 mind negombo town. lobby living dinning ki kitchen pantry balcony 4 bedroom 3 bathroom 3000 sqft solar power hot water e system nmatap water upper tank garbage service 3 time week area 12 perch price 28000000 tel 0765331254 ',\n",
       " 'ratmalana house ratmalana borupana road 11.8 perch house. 3 bedroom 2 bathroom 1 hall dining Hal pantry kitchen. wall right round front garden rear garden 2 court yard walking distance car gills super kudu. r. 3000000. broker genuine buyer. 0773890545 ',\n",
       " 'katubedda pbalwis per era Hiawatha 300 Galle road 4 spacious bedroom 2 bathroom large living dining area spacious pantry outside extra kitchen bathroom garage parapet wall around 19 perch. asking price 360 00000. inspection appointment ovary wry aye ',\n",
       " 'luxury house Colombo 6 2500 SA. ft 4 bedroom ac 3 bathroom hot water parking 2 rolled shutter gate. oz unfurnished upstairs house 225 k pm. garden backyard available. 0773867704 ',\n",
       " 'kotagedara piliyandala house 2 bedroomed 6 p complete ac cctv wire mesh razor blade around. boundary wall wall cupboard t vo bear role roller gate fully tiled. upper floor complete slab immediate 3 owner migrating. bathroom 1 shower cubicle servant bathroom. 0777668357 kotagedara piliyandala . ',\n",
       " 'thalawathugoda 7.5 perch 3100 sqft e 2 foe hanagrohe fug hogan pantile 168 price e 3. provision fer cctv. Deena 38 m tegossne 20 h road broker ',\n",
       " 'luxury house. . house desalts 425 perch 8500 sq. ft. malm house ground floor double garage security roomy sitting dinning pantry Chechen servant room bathroom bedroom 3 toll sun din 1 floor cree e TV bothy 2 room tolgty master rect ar cone in bait solar power. annex 1 parking vehicle location 2 floor dinning sitting pantry servant room bathroom 1 room tolled master bedroom bathroom plus attic air conditioned solar power. miscount 5000000 furniture tr ego e 0772626549 ',\n",
       " 'Colombo 05 exclusive residential area 10 perch. 5 bedroom 4 bathroom separate servant room bathroom. covered parking 2 vehicle. quick highest bid. 0718287756 ',\n",
       " 'Anuradhapura near wilpattu junction luxury house garden migrate ad ideal fully tied house 4 bedroom 02 bathroom garden filled 8 coconut tree 3 king coconut jack fruit bread fruit fruit mango nellee cherry papaya cashew passion fruit. house 110 perch surrounding air port fencing solar power hot water master bedroom air conditioned aa 171519002 m 9 f domshegilyahoo. om ',\n",
       " '7 g delkanda nugegoda architectural designed. 7 spacious bedroom 5 bathroom 2 living room large kitchen sp private garden sea entrance 2 ND floor could used 2 unit. business property house 19 perch close proximity high level road 5 udahamulia railway station sri jayawardenepura university bank grocery. 8477040155 trave ',\n",
       " 'newly build house battaramulla walking distance junction. 3 storey ed house 4500 sq. ft. 10 perch necessary approval granted. 5 bedroom 3 washroom 2 living room 2 dining room roof top 4 vehicle parking facility remote roller gate 90 completed expecting 6000000 owner migrates broker. 0714464056 ',\n",
       " 'house pitipana homagama house 22 perch peaceful surrounding. spin 3 bedroom fl sitting. e dining area. talked laundry pantry separate srovennneamih kitchen servant room bathroom. including guest room. upstairs plus garage. pipe borne water well drinking purpose. 0769653050 ',\n",
       " '2 storey house negonbo 2 storey air conditioned house thushara Hiawatha. 2 mind negombo Colombo road. 5 mind negombo town. lobby living dinning ki kitchen pantry balcony 4 bedroom 3 bathroom 3000 sqft solar power hot water e system nmatap water upper tank garbage service 3 time week area 12 perch price 28000000 tel 0765331254 ',\n",
       " 'house lantana housing scheme lantana eyas go 2 storey 4 bedroom 1 bathroom 10 perch 2 parking slot. 7 ht lane lantana housing scheme. 10 minute city 5 minute general hospital r 22 min 0773234592 ',\n",
       " '4 fully furnished luxury house bellanwila architecturally designed 3 storied house situated highly residential well secured area fm bean bordering attidlya bird sanctuary. walking distance bell are jogging track 0 rajamaha vicarage ventrally located easy access debwalaratmalana mt. Lavinia boralesgamea maharagama hugegedapiyandala celeb 17.2 perch 5000 sqft 2 way recasts 20 read. 4 mudrooms master bedeoas air conditioned dense bathrosenc American standard fitting romp room gun retie dice beat ant TV lounge servant duartersinduding bathroom meltwater remote control rete shatter garage open terrace wt pool table everteoking apache garden harp 3 car elegantly designed large rot terrace panoramic view sh greeny ala fer mater lever ac lacunary light fitting f cling 3 phase electricity solar panel hot water sad ovartead tank. 2 pantry granite top wat kitchen owner migrating r 6000000 strictly view appointment 0777395386 ',\n",
       " 'wat tala upstairs house upstairs house 13 perch wat tala. 6 room bathroom 2 ac room solar powered electricity parking space 3 hide. 500 metre negombo road. 7 minute drive highway. forinsnection o 27097710 ',\n",
       " 'e luxury house property luxury single story house o senanayake or dahaiyagama junction house designed solidly built using quality material 40 perch house completely tiled full air conditioned pantry kitchen 07 room 07 bathroom shot cold water parking 06 vehicle full air conditioned living dining area calm quiet highly residential area pipe born water head water tank 2. servant facility room bathroom ba 02 roller shutter gate 02 separate wicket 9 clear deed easy mortgage accepted gate also remote control 10 ft wall front parapet wall around educational business hub 4 chalk chaser school english next door sd senanayake school 300 m Ceylon electricity board cen Anuradhapura 400 m hotel white house 150 m property location suitable flowing business investment hotel apartment project private hospital shopping complex information please o 7789393780777856 ran ',\n",
       " 'katubedda balwis per era Hiawatha 300 Galle road 4 spacious bedroom 2 bathroom large living dining area spacious pantry outside extra kitchen bathroom garage e parapet wall around 19 perch. asking price 360 00000. inspection appointment 0718127070 ',\n",
       " 'house mog PE mount laving rt mount Lavinia sea side close Galle road 100 meter extended 12.70 perch 1500. ft residence 03 bedroom 2 room ac 03 bathroom store room kitchen 02 hall dinning area this residence 2 wayenterance old quarry road n 33 folding gate station road single gate expect 4000000 photo seen following link httpswww. YouTube. comwatchvgbibllwcxefeatureyoutu. be 0777738001 ',\n",
       " 'peradeniya 5 bedroom house 40 perch available immediate. distance peradeniya university 3 km price r 1000000 0772735369 ',\n",
       " '3 bed apartment thalawathugoda 3 bedroom 2 ND floor apartment. 1300 sqft 2 bathroom servant room bathroom hot water ac fan 24 hr security. car park. mahogany kitchen swimming pool gymnasium. 2 lift. rented r 100000 per mon closer vidura college. highly residential area price r 22 m. £91666 mahesh UK kmpesimaol. com 4479395301 11292020 ',\n",
       " 'luxury house mount laving 2 storied fully tiled 4 bedroom 4 bathroom hot water pantry cooker hob garage roller door facing 30 foot hen road 150 meter Galle road front garden 2200 sqft 6 perch price r 325 MN broker time waster bargain hunter. document obtain bank loan available 0722432014 dushianthan kesho 123 hot mail. co. UK 0722432104 12102020 ',\n",
       " 'house house 10 perch mabima heiyanthuduwa behind nandarama temple. 2 room 250 square ft scale clear deed available. price 3000000. information kumarasiri kumaratisirigmail. com 0712509101 12232020 ',\n",
       " 'semi furl bandana semi furnished 2 story house bandana 2000000 22 perch highly residential area respected neighbourhood calm quiet environment risk free flooding walking distance market closer private government hospital school bank petrol shed le 5 minute drive zone 2 minute e drive Colombo negombo main road bed 4 balcony 2 ba 3 store room servant bathroom sqft 1642 used 2 separate unit illankoon dayaillankoonyahoo. com 9472324115 3182021 he 2 story house ',\n",
       " 'nuwaraeliya bungalow 16.72 perch 2 story house 5 bedroom 2 bedroom ba 1 walking closet altogether 4 bathroom 1 domestic big room attach ba storage room 2 ac main bedroom solar hot water central 4 water tank pantry oshada nishadaoshadaqmall. com 0775900539 10172020 ',\n",
       " 'house kolonnawa bright corner unit located quite safe neighbourhood. 1400 square foot 3 bedroom 2 bathroom solid house located 12 perch closed kolonnawa junction. layout allows adding 2 bedroom. clear deed. convenient location. car gills public library bank bus stand doctor clinic nearby. mosque church temple within 5 minute walking distance. feel like living middle busy town. price 20000000 chandrani 2539424071 all punyalalhotmallcom 1082021 ',\n",
       " 'architecture design house bandarawela architecture design house located e serene hill e vishaka lane bandarawela. 10 minute drive bandarawela town. build flat view mountain peaceful green environment right round. consist 4 bedroom 3 bathroom wooden tile floor. servant room city floor area 3800 square foot. bull year 2016 house well maintained unto house selling 10 perch 28 perch sane lankalandpqmail. com 0773810313 12242020 ',\n",
       " '4 bedroomed house ganemulla ground floor living room TV room kitchen 2 bedroom 2 bathroom fully tiled. 1 bathroom completed bathroom completed upper floor separate entrance living room 2 bedroom bathroom kitchen balcony. 1 bedroom bathroom completed. ceiling done. 10 perch 2000 sqft Fernando mrmlankagmail. com 0712017792 12192020 ',\n",
       " '07 p moderated house ann katawamulla lane maradana 07 p moderated house annex 10 m per perch residential area. katawamulla lane maradana 04 bedroom 03 bathroom 01 living room 01 dining area parking available inside outside. steel pantry cupboard pressure pump water system. solar panel electricity. free electricity fully tiled house annex inclusion. separate entrance. oz bedroom annex separate washroom kitchen perfect deed title agent broker info send message. Ishtar isharlive. com 770380579 3102021 ',\n",
       " 'house bandana house bandana 300 m Colombo negombo road upstairs house 1550 sq built 9.8 p situated exclusive neighbourhood calm quite environment convenience bandana junction railway station. 3 bedroom 2 washroom kitchen pantry cupboard roof top garden parking 2 vehicle front garden. separate servant washroom bathroom. well water main pipe water solar energy net metering. bank loan possible. Claude claudejanszhotmall. com 9477770023 10202020 ',\n",
       " 'property kanuwana ja lea luxury 2 story house built 10 p land .15 km ja lea town. 3 bed 3 bath. approx. 2000 sqft. pantry aluminium fitting granite worktop aluminium windows doors kumbuk staircase teak mahogany door fully tiled lankarochelle tile bathroom fitting balcony open upstairs lounge open view Ty lounge downstairs living room tiled outside wall carport landscaped garden solar hot water overhead tank communal water electricity. 2000000 Adrian gomesadrian 123 mall. com 0094770166 12202020 ',\n",
       " 'house Kandy haragama architecturally designed double story 4 bedroom 3 bathroom 2 courtyard 2 balcony terrace 2 carport total 2862 sqft house great view overlooking mahaweli river. friendly quiet environment secure neighbourhood called udarata sandal la housing scheme 8 km Kandy city. please prasanna via prasanna Australia prasanna. wijeratnegmail. com 6141335873 11102020 ',\n",
       " 'luxury house immediate luxury house immediate negombo 3.5 km city. 20 perch 4000 sqft house luxury facility. 4 bedroom 3 ac. 3 luxury ba pantry equipment. solar electricity hot water 3 phase. aquarium. landscaped overhead sump tank pressure pump cctv. load wire fibre optic solar underground excellent condition. exchange 5 acre coconut cruiser Prado also considered. genuine buyer. aliyah IL jayspartonaroup. com 0777367311 12202020 ',\n",
       " 'luxury house biyagama unbeatable price luxury house biyagama dose kaduwela town 200 meter biyagama kelaniya road. suitable holiday bungalow. 2 storied luxury house 4500 sq. ft floor area ground floor consist large living room large dining room kitchen 2 bedroom office room common bathroom spacious car porch 2 vehicle separate bathroom store room. upper floor consists master bedroom bathroom living cum TV lounge wijayaratne jalithranegmail. com 0765373003 11232020 ',\n",
       " '35 p house kelaniya 2 semi luxury house 22 parches 04 annex 13 perch adjoining polhena kelaniya decent living area property surrounded security wall facility. 1.5 km kelaniya university 1015 minute drive 5 minute drive kelaniy temple. currently receive r 95000 per mon renting annex. whole property sold r .4000000 buy part 13 perch property 22 perch property separately brandigampola brandigampolalgmail. com 0768810985 10182020 ',\n",
       " 'anniwatta house large stair house highly residential anniwatta Kandy. 8 bedroom 6 bathroom hot water facility. 2 pantry large sitting area ground floor upstairs. 4 garage carport. area 20 purchase clear deed 10 minute drive Kandy city Asir suwasevana hospital international school supermarket. excellent view enormous privacy. expected price 234000 pound. per era Australia wickrama 350 mail. com 10252020 ',\n",
       " 'house mount Lavinia 15 perch 5 separate unit. 1. ground floor 3 bedroom 2 bathroom large living room pantry kitchen dining area upper floor 2 separate house 12 bedroom bathroom large living room kitchen 21 bedroom bathroom living room kitchen 2. ground floor 1 bedroom bathroom living room kitchen upper floor 3 bedroom 2 bathroom kitchen living room r .7000000 praba prabathkdyahoo. com 9476821601 2212021 ',\n",
       " 'good hope apartment block 2 bed apartment opposite orzo hotel marine drive ocean front Galle road open side 2 bed 2 ba nice location db bank next door beach wadi ya many eating place around holy family convent st. peter college close pl. email find 2000000 pl. contact send message interested thank. kanaka UK 3232021 ',\n",
       " 'apartment soysapura moratuwa bed 2 ba 1 size 500 sqft house moratuwa soysapura 1 st floor newly renovated ceiling fan installed iron bar drill right round flat installed location block bedroom 02 bathroom o 1 living dining kitchen kitchen newly build pantry cupboard bathroom fitting hot water system le 100 Galle road walking distance super market bank playground medical centre price r 850000085 l anal srilanka amalpereragemailcom 0772652218 3312021 ',\n",
       " 'luxury house immediate 4 bedroom luxury box house negombo. facility 3 phase solar electricity ac room 3 luxury bathroom pantry landscaped garden 20 p. 4 km negombo city. built aquarium large roof top etc tee. price 3000000. cruiser Prado balance negotiated aliyah 0777367311 aliyah jayspartonaroup. com 0777367311 12232020 ',\n",
       " 'architect designed house kadawatha 17 p 5 bedroom 2 storied architect designed house 2600 sq. ft located kadawatha city limit. 200 mar kadawatha town. quick access major super market property located partly commercial area. suitable office residential purpose. selling price r. 3000000 information. smi wannisumithgmail. com 0772180431 2142021 ',\n",
       " '2 storied house boralesgamuwa 2 storied house school lane boralesgamuwa. built 9.25 perch 2200 sq. ft floor area easy access maharagama nugegoda piliyandala main city. consist 4 bedroom 2 bathroom living dining fully tiled floor veranda convenience 3 phase electricity telephone tap water close bank financial institution educational institution school super marker restaurant etc. expecting price r. 26.000000 cash ram lankalandpgmail. conn 0777330333 2142021 ',\n",
       " 'luxury house kuliyapitiya architecturally designed bungalow located 100 m kuliyapitiya kurunegala main road 7 km kuliyapitiya town. soooft mansion boast 5 large bedroom builtin cupboard 3 bathroom spacious living dining pantry tiled kitchen granite top servant room solar hot water central courtyard garage pond. lovely house r 49.000000 luxury living run boutique hotel. pul wasalal big pond. com 6141276227 1242021 ',\n",
       " 'house Kandy 3 story house Kandy municipal area 4 room 3 bathroom 2 living area good car parking garage closed every college keel food city. price 4000000 broker broker commission per era dhpbmegmail. com 0771393638 3102021 ',\n",
       " 'price slashed 2 br apartment havelock city master bedroom bathroom 2 ND bedroom common bathroom servant room bathroom kitchen sink mount. central gas water electricity back electricity additional amenity suite gym pool cinema supermarket shopping arcade 1 covered car parking fully air conditioned. top line opportunity spacious 2 bd apartment 10 ht floor great sea view. principal. price slr 4000000. de silva srilanka viraaugmall. com 9471802594 11292020 ',\n",
       " '2 storied house nugegoda 2 storied house nugegoda. located highly residential area... city limit 2 easy access consist 4 bedroom 2 bathroom living dining fully tiled floor 10 perch 2200 sq. ft floor area tap water close bank financial institution educational institution school super marker restaurant etc expecting value r 45 perch. alwis aminternationalalwisgmall. com 0094719710 3182021 ',\n",
       " '10 room house 3 bedroom ba house 3 bedroom ba sitting kitchen pandoura mahabellana access pandoura Khorana bus route selling want want money gently. r 65 thousand. room bother 2 room room also built already immediately. distant s 00 meter main pandoura Khorana bus route. picture pl. ranji ranjithranmal 1946 mail. com 9471489331 2122021 ',\n",
       " 'house malabe 500 m malabe junction Robert gunawardana Hiawatha crystal corr. 8 perch 3 bedroom bathroom sitting area large kitchen servant bathroom around parapet wall iron gate selling price kr 1000000 Mervyn ms sp 20 mail. com 9471259625 12232020 ',\n",
       " 'Kandy luxury house fully furnished luxury house 3 km Kandy city centre sought residential area Kandy 9 thalong katugastota road behind proposed cinnamon red hotel walking distance 3 leading super market. 4 bed 3 ba 1 en suite walkinwardrobe 2 granite topped pantry cooker range granite top kitchen island. 2 living area sun splashed sit out. double garage servant quarter 24 hr security remote door tee ranji silva 2003 yahoo. com 0763494487 1102021 ',\n",
       " 'weligama 100 mar riot hotel house located 100 mar riot hotel functioned home stay ayurvedic unit. good reputation 5 bedroom 1 office room 1 car porch 2 bathroom 1 servant bathroom. 10 perch asking price 2500000025 m http goo. glimpse 6 tkunchqoavao 9 y 8 highly recommend trip advisor. good small hotel pradeep pradeepecholdingz. com 0766549519 1242021 ',\n",
       " 'house house 10 perch opatha kotugoda. 4 room 250 square ft scale. clear deed available. price 17500000 whats app information jayan jayanthpereraégmail. com 0769115586 11292020 ',\n",
       " 'luxury house near piliyandala maharagama 8 perch 3 bedroom fully completed bathroom. serpent room ac cctv hot water 4 parking slot. 3 story house. slr 26.000000 Varuna 0094772332 whats vibe imo Varuna dulans 005 mail. com 0772332433 12192020 ',\n",
       " 'sage ne gan it cate i ear teat wee ne ae hem ae ae ear ante malar Eg OE ear slot roe Lastex 20 perch proper rooftop separate era rom ode. 350025 highly eel neghaomhood cu proximity supermaetsr s 000 men cal 752010 Beeton 102021621 m con aet 0762160140 clepe atom tore fat 107700 ',\n",
       " 'kaduvwela wellwitd nous tor immediate. type sell price feature additional information kaduwela welimita church rd close low level rd 600 m free flood dose highway entrance constructed 2 house 6 room tiled big 2 storey house immediate. 1000000 close slit horizon. 0711907970 posted 04 mar 2021180. 0711907970 click show ne ref 1691041 ',\n",
       " 'posse cod excepted nba l ch er RC canister Abe vair ran okra no asap e etepoyhospis sperm bat sea wt in 0 s 0 ae ispecons wt pr epprtnens til pec rad Ellen inegotade coma sig salon rel sates book wig appolnnent 077354231 coset 1077735423 ',\n",
       " 'vo br sully furnisher apartment oouuu type sell price r .85000.00 additional information luxury apartment prime location mahabage wat tala opposite navy camp. 2 minute drive colombokatunayaka highway entrance kerawalapitiya le 1 minute walk Colombo negombo main road. walking distance hospital super market pharmacy shopping mall restaurant. lyceum international school 6 km 12 min katunayake intemational airport. ground floor unit 3 bedroom 2 bathroom fully furnished air conditioned furniture electronics 1 car parking slot lit rooftop swimming pool fully equipped rooftop gymnasium rooftop terrace private function fire fighting system. use following link descriptive promotional video developer. hhttpsmww. you tube. comwatchvghhno 2 er 61 posted 01 apr 20211210 pm contact 0766885386 click show ref 1698319 ',\n",
       " 'luxury apartment type sell price additional information wellawatte 3 bedroom 3 bathroom luxury apartment 1362 sqft parking servant quarter. Ramakrishna rd. 30000000 posted 12 mar 2021900 0715318126 ref 1693782 click show ',\n",
       " 'ET back rajagiriya road 1870 sqft office space rajagiriya road rajagiriya wee available 3 storied facing rajagirya road mill election commission office 3 room 2 bathroom lobby dinning pantry area total floor area 1870 sqft unfurnished alrconditioned 2 covered parking slot monthly r 135000 common area maintenance caretaker service son err 07 hoke type rent tease price r .125000.00 additional information total floor area 1870 squat 2 reserved covered parking slot 1 st floor a 3 story building facing rajagiriya road 14 mile election commission office main rajagiriya bus stand 3 room 2 bathroom large lobby dinning pantry air conditioned includes common area maintenance caretaker posted 25 mar 2021817 0712777407 ref 1697033 click show ',\n",
       " 'type sell bedroom 6 extent 36 perch ba 3 bathroom price r .30000000.00 feature pantry dining fully tiled kitchen lobby car park balcony servant driver quarter store room verandah guest bathroom air condition wet kitchen additional information house peaceful surround friendly neighbourhood. ideal location dubhousestressfree livingholidaycircuit bungalow. km Kandy city centre wt grocery shopsrestaurantsessentials walking distance. 2 km away pallekelle international cricket ground dib obi zone 30 minute away leading school kendo connecting central expressway. following stair hall 602 bedroom 0101 bathroom 11 kitchen 1 dining room 0 front corridor 0 prayer room 1 st floor 0 hall 04 bedroom 0101 bathroom 0 dining room 0 pantry kitchen 1 extra kitchen side servant room 0 servant bathroom garage 0 flower garden 3. total square foot floor area building 1947.67 sq. foot floor area 1 st floor 1947.67 sqft ',\n",
       " 'ill settee fl Kandy prime property cent Kandy lake round 35 perch ancestral property house. . prime location within walking distance dalada maligawa leading school u. broker.. Kandy type sell bedroom 8 extent 35 perch ba 6 bathroom price feature balcony dining store room kitchen guest bathroom car park servant driver quarter verandah pantry full tiled additional information Kandy lake round 35 perch ancestral property house. prime location within walking distance dalada maligawa leading school. clear deed. direct serious buyer. broker. all inquires preferably emailed kandyprimepropertygmailcom posted 27 mar 2021813. 0770815296 click show ',\n",
       " 'imnalawatnugoaa Lana tor e type sell bedroom 2 extent 10 perch price r .21000000.00 feature dining kitchen car park additional information thalawathugoda single storied house 10 perch. 400 meter Ottawa boralla main road. 2 bedroom 2 bathroom sitting dining kitchen parapet wall parking space 3 car price 2000000 broker need 0759180516 posted 16 Feb 2021806 context 0759180516 click show ref 1688866 ',\n",
       " 'ill settee fl Kandy prime property cent Kandy lake round 35 perch ancestral property house. . prime location within walking distance dalada maligawa leading school u. broker.. Kandy type sell bedroom 8 extent 35 perch ba 6 bathroom price feature balcony dining store room kitchen guest bathroom car park servant driver quarter verandah pantry full tiled additional information Kandy lake round 35 perch ancestral property house. prime location within walking distance dalada maligawa leading school. clear deed. direct serious buyer. broker. all inquires preferably emailed kandyprimepropertygmailcom posted 27 mar 2021813. 0770815296 click show ',\n",
       " 'ill settee fl Kandy prime property cent Kandy lake round 35 perch ancestral property house. . prime location within walking distance dalada maligawa leading school u. broker.. Kandy type sell bedroom 8 extent 35 perch ba 6 bathroom price feature balcony dining store room kitchen guest bathroom car park servant driver quarter verandah pantry full tiled additional information Kandy lake round 35 perch ancestral property house. prime location within walking distance dalada maligawa leading school. clear deed. direct serious buyer. broker. all inquires preferably emailed kandyprimepropertygmailcom posted 27 mar 2021813. 0770815296 click show ',\n",
       " 'ill settee fl Kandy prime property cent Kandy lake round 35 perch ancestral property house. . prime location within walking distance dalada maligawa leading school u. broker.. Kandy type sell bedroom 8 extent 35 perch ba 6 bathroom price feature balcony dining store room kitchen guest bathroom car park servant driver quarter verandah pantry full tiled additional information Kandy lake round 35 perch ancestral property house. prime location within walking distance dalada maligawa leading school. clear deed. direct serious buyer. broker. all inquires preferably emailed kandyprimepropertygmailcom posted 27 mar 2021813. 0770815296 click show ',\n",
       " 'rand 5 br apartment capital trust residency thimbirigasyaya road Colombo 5 type sell price r .56000000.00 additional information living dining room bedroom air conditioned world e largest manufacturer medium aluminium window french proprietary system profile imported designer porcelain tel flooring branded german bathroom fitting accessory cravat Italian designed durable pantry cupboard supplied 1 world largest pantry manufacturer. pantry fitted hood hob stainless steel sink door made engineered timber door reserved parking space rooftop swimming pool infinity edge landscaped rooftop garden ultramodern gym fitted stateoftheart equipment soundproof generator posted 20 mar 2021256 pm. 0777233533 click show ne ref 1695618 ',\n",
       " 'kana grime property Kandy lake round 35 perch ancestral property house. . prime location within walking distance ch dalada maligawa leading school Kandy type sell bedroom 8 extent 35 perch ba 6 bathroom price feature balcony dining store room kitchen guest bathroom car park servant driver quarter verandah pantry fully tiled additional information Kandy lake round 35 perch ancestral property house prime location within walking distance dalada maligawa leading school. clear deed. direct serious buyer. broker. inquires preferably emailed kandyprimepropertygmailcom posted 27 mar 2021813. cont 1077081529 ref 169717 click show ',\n",
       " '3 u perch newly built house e pye set tent 20 perch price 8236500000.00 feature pad irmemen Fe value ln house 088 m font hot gmlasas bald so ',\n",
       " 'manaragama house type sell bedroom 4 extent 10 perch price r .24000000.00 feature car park additional information luxury house maharagama maharagama city limit lady doctor owned luxury 2 storied house. 10 2500 sqft 4 bedroom 4 bathroom parking space 4 vehicle landscaped garden easy access high level road 120 bus route battaramulla motte. price 240 00000 0777902003 posted 20 Feb 20211052. ref 1689152 click show ',\n",
       " 'fmovse al tidily dehivwala. type sell bedroom 6 extent 17 perch ba 6 bathroom price feature car park cc additional information lunury 2 story 2 unit house private road leading kawdana road attidiya unit 12595 sqft unit 21950 sqft extent 17 perch 20 ft wide road access property clear deed calm quiet neighbourhood 3 phase electricity solar electricity system cctv 2 overhead tank parking available 2 vehicle 10 ft reservation rear house 06 bedroom ba 5 bedroom air conditioner hot water geyser sun terrace expected price 65 m adjoining bare 6.80 perch separate deed electricity water supply inducing well boundary wall gate expected price 17 m ideally bought together like large garden 0777258280 posted 04 mar 202148 pm context 0777258280 ca is anat air ',\n",
       " '1 tearoom apartment type sell price r .15000000.00 additional information apartment dose proximity Galle road nearing completion awaiting voc selected furniture including 2 pantry unit aluminium cladding ramrod beko hob hood Rochelle water concept beko fridge bought December ramrod Palmira 4 door dressing table bed aba washing machine unused nosy smart TV 42 satellite connection shoe cupboard etc. owner ship transfer execution legal assignment. Saturday Sunday posted 10 Feb 2021150 0702601588 ref 1687935 click show ',\n",
       " 'vo br sully furnisher apartment oouuu type sell price r .85000.00 additional information luxury apartment prime location mahabage wat tala opposite navy camp. 2 minute drive colombokatunayaka highway entrance kerawalapitiya le 1 minute walk Colombo negombo main road. walking distance hospital super market pharmacy shopping mall restaurant. lyceum international school 6 km 12 min katunayake intemational airport. ground floor unit 3 bedroom 2 bathroom fully furnished air conditioned furniture electronics 1 car parking slot lit rooftop swimming pool fully equipped rooftop gymnasium rooftop terrace private function fire fighting system. use following link descriptive promotional video developer. hhttpsmww. you tube. comwatchvghhno 2 er 61 posted 01 apr 20211210 pm contact 0766885386 click show ref 1698319 ',\n",
       " 'ill settee fl moratuwa luxury house cense hoke type sell bedroom 5 extent 20 perch ba 3 bathroom price r .81500000.00 feature dining kitchen wooden floor car park air condition pantry swimming pool additional information luxury house swimming pool ebart lane moratuwa. 500 meter Galle road. area 20 perch built area 3000 sqft calm peaceful living area. 3 upstairs house fully wooden floor kubuk 5 bedroom antic room. 3 bathroom. finishing roof large living area dining area open kitchen. pantry cupboard furniture electric item roller shutter remote gate vehicle parking e gym balcony area swimming pool. broker expecting 815 00000 Indre 0774503825 posted 19 mar 2021238 pm 0774503825 ',\n",
       " 'hoke type sell price r .35000000.00 additional information size 2 acre 12 perch number room 15 separate manager quarter separate staff quarter separate driver quarter spacious car park reception separate manager room furnishing given hotel kitchen utensil cutlery room bed TV cupboard etc... generator transformer large swimming pool segregated baby adult pool water system throughout premise or reverse osmosis water filtered. bank loan posted 24 Feb 2021817 0717702485 ref 1680067 click show ',\n",
       " 'afarimen tor coliombdo type sell price r .63.00 additional information apartment Colombo 6. 3700 sqft. 4 large bedroom bathroom 2 small room spacious living dining ac hot water semi furnished separate servant utility room bathroom convenient easy access havelock rd Galle road marine drive. price 6000000 0777223441. strictly broker. posted 02 mar 2021240 pm. 0777223441 ref 1691049 click show ',\n",
       " 'ranpokunagamd housing schemenittambuwa. type sell bedroom 3 extent 7.5 perch ba 1 bathroom price r .8500000.00 feature dining kitchen car park verandah pantry fully tiled store room additional information selling everythingtvs washin 6 reftigeratordvd player furniture. glass wearsplnate mon July plan leave house 1 owner. clear deed. can apply bank loans call time posted 17 mar 2021246 pm 0772285350 ref 1695418 click show ',\n",
       " 'br apartment neuroma elegant 16 type sell price r .46000000.00 additional information key feature rooftop jogging track barbecue area play area. clubhouse gymnasium stateoftheart equipment. swimming pool. home feature living master bedroom provided air conditioning. pantry cupboard kitchen sink cooker 5 year warranty. plumbing hot water supply line. central LP gas distribution system. standard feature covered car park unit visitor car park. cctv camera system 24 hr security. garbage collection service. fire protection system. standby power generator reliable water storage house. otitis elevator. posted 25 mar 20211236 pm s ',\n",
       " 'ill settee fl hotel negombo cone type sell price r .400.00 additional information hotel negombo extent 200 perch 16 bedroom washroom 3 bedroom washroom driver landscaped garden 200 vehicle parking facility. selling price 400 MN talc 0777258280 posted 26 Feb 20211220 pm click show ref 1690164 ',\n",
       " 'raitmalana large bouse sain type sell price additional information ratmalana attidiya main road facing 1812 perch large house. 4 bedroom. 0770668892 posted 02 mar 2021908. 0777621698 ref 1691460 click show ',\n",
       " 'rand Nev 4 br apartment capital trust residency thimbirigasyaya road Colombo 5 type sell price r .79000000.00 additional information living dining room bedroom air conditioned world largest manufacturer medium aluminium window french proprietary system profile imported designer porcelain tile flooring branded german bathroom fitting accessory cravat Italian designed durable pantry cupboard supplied 1 world largest pantry manufacturer. pantry fitted hood hob stainless steel sink door made engineered timber door reserved parking space rooftop swimming pool infinity edge landscaped rooftop garden ultramodern gym fitted stateoftheart equipment soundproof generator posted 20 mar 20211050 0777233533 ref 1695622 click show ',\n",
       " 'boralesgamuwa house tod sidle dk since 1809 type sell extent 9.45 perch ba 3 bathroom price r .32000000.00 feature additional information boralesgamuwa 100 m maharagama road 1 km boralesgamuwa town 4 room 3 bathroom upstairs house 9.45. 320 00000. posted 02 mar 20211253 pm. 0773727085 click show ne ref 1691029 ',\n",
       " 'by br apartment tor capital trust residency vair road type sell price r .73000000.00 additional information living dining room bedroom air conditioned world largest manufacturer medium aluminium window french proprietary system profile. imported designer porcelain tile flooring branded german bathroom fitting accessory cravat Italian designed durable pantry cupboard supplied 1 world e largest pantry manufacturer pantry fitted hood hob stainless steel sink door made engineered timber door reserved parking space rooftop swimming pool infinity edge landscaped rooftop garden ultramodern gym fitted stateoftheart equipment soundproof generator posted 20 mar 2021152 condor 0777233533 click show ref 1695608 ',\n",
       " 'single story house katunnayake ode. type sell bedroom 3 extent 345 perch ba 3 bathroom price r .24800000.00 feature pantry dining store room kitchen guest bathroom car park servant driver quarter verandah walk wardrobe wet kitchen additional information 341 bedroom bungalow treed property 34.5 perch katunayake. walk colombonegombo road railway station 5 minute. 10 minute drive international airport ft. 20 minute drive city negombo negombo general hospital shopping supermarket bank school etc. hotel zone bar pub restaurant. 2000 sqft home designed chartered architect. verandah 10.75 bf 9.25 f 1 living room sunken 15.25 f 0 x 18.5 ft dining 15 ft 9.5 ft. bedroom located separate living area. master bedroom 15.5 ft 11.75 ft ba dressing nook family room 14 ft 14 bedroom 114 ft 11.5 ft bedroom 211.5 ft 11.25 ft common bathroom. extra bedroom loft. sleeping area separate verandah open treed lot. french door window throughout. overhead tank separate well water 2 phase supply 2 separate meter. fenced brick walled boundary additional security. includes several teak jack fruit tree. posted 11 Feb 2021817 . ',\n",
       " 'imnree storied house maharagama type sell bedroom 5 extent 6.5 perch ba 2 bathroom price r .29000000.00 feature car park air condition additional information 3 storied house maharagama maharagama yahampa Hiawatha 6.5 perch 3 storied house 4500 sqft 5 ac bedroom office room 3 living room 2 bathroom 2 vehicle park. 900 meter maharagama junction. 200 meter main road 341 bus route quiet safe surroundings. 20 foot access road. clear deed. quick. ready quick occupation. r. 2000000. price negotiate inspection. 0773085034 posted 03 mar 2021157. contr 077308503 ref 1691722 click show ',\n",
       " 'super luxury bouse type sell bedroom 6 ba 6 bathroom price feature additional information Colombo 7 town hall super luxury house palace lease. 6 room 6 bathroom 10 parking lit. ideal embassy. 800000. posted 04 mar 20211041. 0776060767 click show ne ref 1691214 ',\n",
       " '20 perch prime back type sell bedroom 3 extent 20 perch ba 2 bathroom price feature dining kitchen servant driver quarter additional information 185 00000 per perch prime close kotelawala defence uni. Thomas e college cargils scenic walking track dying school broad road excellent residential environment. pl inspection posted 81 mar 2021415 pm. 0777305770 click show ref 1698286 ',\n",
       " 'twin house tor mit. Lavinia type sell bedroom 5 extent 16 perch ba 3 bathroom price feature additional information peri road. 16 perch twin house 1 house 5 bedroom 3 washroom 2 house 3 bedroom 1 washroom. asking price 58 MN 077258280 posted 04 mar 202148 pm ref 1690894 click show ne ',\n",
       " '2 storey house heart dehiwala type sell bedroom 7 extent 20.16 perch ba 7 bathroom price feature fully tiled dining tvtobby kitchen balcony car park store room servant driver quarter guest bathroom verandah wet kitchen pantry additional information large 2 storey ancestral house used separate unit required includes 3 electricity meter 2 water meter parking space 3 vehicle walking distance dehiwala junction 300 m Galle road dehiwala flyover super market bank sqft food restaurant amenity nearby location 5.000000 pp posted 08 Feb 2021840. aiisagas caeaen ',\n",
       " 'kunaasale house dole type sell bedroom 4 extent 63 perch price r .27500000.00 feature servant driver quarter additional information 20206 medoinred econooaio em ease rad hem owors beam ciao emend ygelo he 18648. en 0291286888 yen. od 638. ban 27583. SG wase enmbe couch. 5 ob 9 gid 0774810727 posted 26 mar 2021350 pm ref 1697143 click show ',\n",
       " 'large house massive garden side type sell bedroom 5 extent 20 perch ba 3 bathroom price r .19000000.00 feature balcony dining guest bathroom kitchen car park verandah wet kitchen fully ted lobby additional information large house massive garden. fully tiled 5 br 2 ba separate servant bath. massive garden accommodate 45 vehicle. located safe calm neighbourhood surrounded well educated neighbour. 4 km tamale town hospital 5 minute walking distance ukulele train station shop. ideal bring family even commercial purpose. price discussed upon inspection posted 01 mar 2021935. . 0710976703 click show ref 1690898 ',\n",
       " 'house manaragama type sell bedroom 5 extent 6.5 perch ba 2 bathroom price feature car park air condition store room additional information 3 storied house maharagama maharagama yhampa Hiawatha 6.5 perch 3 storied house 4500 sqft 5. vac bedroom office room 3 living room 2 bathroom 2 vehicle park 900 meter maharagama junction 200 meter main road 341 bus route. quiet safe surroundings 20 foot access road. clear deed. quick. ready quick occupation. r 2000000 price negotiate inspection. 0773085034 . ',\n",
       " 'lo perch house Lana gampahaasgiriwalpola type sell bedroom 2 extent 15 perch ba 1 bathroom price r .6500000.00 feature dining kitchen car park fully tiled lobby additional information 15 perch house gamapaha asgiriwalpola 2.5 km gamapaha town 15 min drive ganemulala town 40 min drive kadawatha town price r 65 00000 0775064527 posted 08 mar 2021229 pm click show ne ref 1693901 ',\n",
       " 'meegoad house ode type sell bedroom 4 price r .11500000.00 feature additional information 100 m high level road 300 m meegoda junction 20 ft road 4 bedroom clear deed water board line well water 11.000000 073544821 posted 15 Feb 2021623 pm contact 0773544821 click show ref 1688865 ',\n",
       " 'luxury house Jael con BA type sell bedroom 6 extent 80 perch ba 5 bathroom price feature kitchen pantry Ce additional information extent 50 perch 6 bedroom 5 washroom separate quarter servant driver. 16 cctv camera 3 pantry 1 kitchen solar hot water washroom parapet wall right around entire. 5 minute distance Colombo katunayaka highway entrance walking distance govt. institution Jael house completed 2015. 2 Jael Colombo main road. price 90 MN 0777258280 posted 26 Feb 2021142. context 0777258280 ref 1690194 click show ',\n",
       " 'Lana luxury house dole type sell bedroom 5 extent 10 perch ba 3 bathroom price r .3700000000 feature balcony store room dining cow kitchen guest bathroom car park heater air condition pantry fly tiled lobby additional information 10 perch 3 stair luxury house agama located agama thewatta road 1 km agama police station owner seek urgent buyer house. posted 04 mar 2021826 context 0097155559 ref 1692123 click show ',\n",
       " '2 upstairs house ode type sell bedroom 1 extent 12 perch ba 7 bathroom price r .90000000.00 feature balcony dining kitchen car park servant driver quarter air condition pantry fully tiled additional information 02 upstairs house pelawatta facility. either 1 unit separate 12 p. separate 03 phase electricity water assessment number 100 m junction. carpet road 25 rt. ample parking. present monthly income r 200000. bank loan arranged. 04 bedroom including 01 servant room r 35 m 07 bedroom including 02 servant room r ssm owner migrating tel 0702009191 posted 04 mar 2021130 pm. . 0702009191 click show ref 1692205 ',\n",
       " 'villa Colombo 6 knee type sell bedroom 4 extent 20.05 perch ba 3 bathroom price r .60000000.00 feature store room additional information saranankara road Colombo 0620.5 perch 4200 sqft 4 bedroom 3 bathroom 3 separate domestic room posted 02 apr 2021820 777233533 click show ref 1698403 ',\n",
       " '2 tearoom apartment sain capitol twin peaks type sell price r .56000000.00 additional information heart Colombo central business district stand capitol twin peaks 50 storey twin skyscraper promise private serene safe space sky. offering 438 luxury apartment resident capitol twin peaks provided escape comfort urban charm mast elite neighbourhood sch caput city Colombo. posted 26 mar 20211014 contact 0777233533 ref 1697104 click show ',\n",
       " 'house kana type sell extent 212 perch. price feature additional information Kandy rajapihilla Hiawatha Arthur seat beautifully designed overlooking Kandy lake city 3 bedroomed house panoramic view 21.2 perch. 1 best location Kandy lifetime opportunity thoughtfully designed house used holiday home boutique hotel redevelop larger hospitality venture. 175 MN principal broker. inspection appointment. 0767132065 posted 23 Feb 2021202 pm. 0767132065 lick show ref 1690014 ',\n",
       " 'Kandy type sell price feature additional information kundasale galmaduwawatta haritha Guyana 3 storied house located peaceful respectable environment 4 room servant room bathroom available perch 6.3 price 27.000000. price. anil posted 80 mar 2021953.. o 774810727 click show ne ref 1697970 ',\n",
       " 'wenramplitlya type sell bedroom 3 ba 2 bathroom price feature additional information wellampitiya new house 2 storied. fully complete downstairs slab. 3 room 2 bathroom. 20 ft. road 3 65 ski. 6 95 ski. posted 1 mar 20211254 pm 0703888694 ref 1693760 click show ne ']"
      ]
     },
     "execution_count": 39,
     "metadata": {},
     "output_type": "execute_result"
    }
   ],
   "source": [
    "final_preprocessed_lst[:100]"
   ]
  },
  {
   "cell_type": "code",
   "execution_count": 33,
   "metadata": {},
   "outputs": [
    {
     "data": {
      "text/plain": [
       "157"
      ]
     },
     "execution_count": 33,
     "metadata": {},
     "output_type": "execute_result"
    }
   ],
   "source": [
    "len(final_preprocessed_lst)"
   ]
  },
  {
   "cell_type": "markdown",
   "metadata": {},
   "source": [
    "# Save as Text file separately train and test"
   ]
  },
  {
   "cell_type": "code",
   "execution_count": 34,
   "metadata": {},
   "outputs": [],
   "source": [
    "output_file = r\"D:\\R & D PROJECT\\Test_text\\test_data.txt\"\n",
    "f = open(output_file, \"w\")\n",
    "for data in final_preprocessed_lst:\n",
    "    f.write(\"%s,\\n\"% data)\n",
    "f.close()"
   ]
  },
  {
   "cell_type": "code",
   "execution_count": 35,
   "metadata": {},
   "outputs": [],
   "source": [
    "with open(r\"D:\\R & D PROJECT\\Test_text\\test_data.txt\", \"r\") as filename:\n",
    "    train_file = filename.read()"
   ]
  },
  {
   "cell_type": "code",
   "execution_count": 36,
   "metadata": {},
   "outputs": [],
   "source": [
    "cleaned_text = []\n",
    "for line in train_file.split(\",\"):\n",
    "    if not line.strip():\n",
    "            continue\n",
    "    cleaned_text.append(line.lstrip())"
   ]
  },
  {
   "cell_type": "code",
   "execution_count": 37,
   "metadata": {},
   "outputs": [
    {
     "data": {
      "text/plain": [
       "'ratmalana house ratmalana borupana road 11.8 perch house. 3 bedroom 2 bathroom 1 hall dining Hal pantry kitchen. wall right round front garden rear garden 2 court yard walking distance car gills super kudu. r. 3000000. broker genuine buyer. 0773890545 '"
      ]
     },
     "execution_count": 37,
     "metadata": {},
     "output_type": "execute_result"
    }
   ],
   "source": [
    "cleaned_text[1]"
   ]
  },
  {
   "cell_type": "code",
   "execution_count": null,
   "metadata": {},
   "outputs": [],
   "source": []
  }
 ],
 "metadata": {
  "kernelspec": {
   "display_name": "Python 3.9.6 ('.venv': venv)",
   "language": "python",
   "name": "python3"
  },
  "language_info": {
   "codemirror_mode": {
    "name": "ipython",
    "version": 3
   },
   "file_extension": ".py",
   "mimetype": "text/x-python",
   "name": "python",
   "nbconvert_exporter": "python",
   "pygments_lexer": "ipython3",
   "version": "3.9.6"
  },
  "orig_nbformat": 4,
  "vscode": {
   "interpreter": {
    "hash": "59f66abb3422919dd3108191ff325111bb427234740df26bef45f22ef9a52061"
   }
  }
 },
 "nbformat": 4,
 "nbformat_minor": 2
}
