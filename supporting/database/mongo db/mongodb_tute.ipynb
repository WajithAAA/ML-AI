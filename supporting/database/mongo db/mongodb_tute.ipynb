{
 "cells": [
  {
   "cell_type": "code",
   "execution_count": 19,
   "metadata": {},
   "outputs": [],
   "source": [
    "# connect with mongo db compose\n",
    "import pymongo\n",
    "\n",
    "client = pymongo.MongoClient('mongodb://localhost:27017')\n",
    "\n",
    "mydb = client['employee']\n",
    "\n",
    "information = mydb.employeeInformations"
   ]
  },
  {
   "cell_type": "code",
   "execution_count": 20,
   "metadata": {},
   "outputs": [
    {
     "data": {
      "text/plain": [
       "<pymongo.results.InsertOneResult at 0x199ab120a60>"
      ]
     },
     "execution_count": 20,
     "metadata": {},
     "output_type": "execute_result"
    }
   ],
   "source": [
    "# record onsert one \n",
    "record = {\n",
    "    'name':'wajith',\n",
    "    'age':'25 years',\n",
    "    'grade': 'graduate'\n",
    "}\n",
    "\n",
    "information.insert_one(record)"
   ]
  },
  {
   "cell_type": "code",
   "execution_count": 21,
   "metadata": {},
   "outputs": [
    {
     "data": {
      "text/plain": [
       "<pymongo.results.InsertManyResult at 0x199acd6cb80>"
      ]
     },
     "execution_count": 21,
     "metadata": {},
     "output_type": "execute_result"
    }
   ],
   "source": [
    "records = [{\n",
    "    'name':'abdul',\n",
    "    'age':'24 years',\n",
    "    'grade': 'undergraduate'\n",
    "    },\n",
    "    {'name':'raju',\n",
    "    'age':'24 years',\n",
    "    'grade': 'no',\n",
    "    'status': 'unemployee'\n",
    "    },\n",
    "    {'name':'john',\n",
    "    'age':'21 years',\n",
    "    'grade': '12A'\n",
    "    },\n",
    "    {'name':'sharmila',\n",
    "    'age':'24 years',\n",
    "    'grade': 'undergraduate',\n",
    "    'university':'UoP'\n",
    "    }]\n",
    "\n",
    "information.insert_many(records)"
   ]
  },
  {
   "cell_type": "code",
   "execution_count": 22,
   "metadata": {},
   "outputs": [
    {
     "data": {
      "text/plain": [
       "{'_id': ObjectId('62bd6ce4f9ae83798487ebce'),\n",
       " 'firstname': 'Abdul',\n",
       " 'lastname': 'Wajith',\n",
       " 'age': '25y'}"
      ]
     },
     "execution_count": 22,
     "metadata": {},
     "output_type": "execute_result"
    }
   ],
   "source": [
    "# simple query\n",
    "information.find_one()"
   ]
  },
  {
   "cell_type": "code",
   "execution_count": 23,
   "metadata": {},
   "outputs": [
    {
     "name": "stdout",
     "output_type": "stream",
     "text": [
      "{'_id': ObjectId('62bd6ce4f9ae83798487ebce'), 'firstname': 'Abdul', 'lastname': 'Wajith', 'age': '25y'}\n",
      "{'_id': ObjectId('62bd6db0f9ae83798487ebcf'), 'firstname': 'Abdul', 'lastname': 'Wajith', 'age': '25y'}\n",
      "{'_id': ObjectId('62bd6db0f9ae83798487ebd0'), 'firstname': 'Sharmia', 'lastname': 'Riyath', 'age': '24y', 'status': 'Married'}\n",
      "{'_id': ObjectId('62ce6b15e1f315802e87d8d0'), 'name': 'wajith', 'age': '25 years', 'grade': 'graduate'}\n",
      "{'_id': ObjectId('62ce6c2de1f315802e87d8d1'), 'name': 'abdul', 'age': '24 years', 'grade': 'undergraduate'}\n",
      "{'_id': ObjectId('62ce6c2de1f315802e87d8d2'), 'name': 'raju', 'age': '24 years', 'grade': 'no', 'status': 'unemployee'}\n",
      "{'_id': ObjectId('62ce6c2de1f315802e87d8d3'), 'name': 'john', 'age': '21 years', 'grade': '12A'}\n",
      "{'_id': ObjectId('62ce6c2de1f315802e87d8d4'), 'name': 'sharmila', 'age': '24 years', 'grade': 'undergraduate', 'university': 'UoP'}\n",
      "{'_id': ObjectId('62d4d5fdb1bbdc08801f5e0e'), 'name': 'wajith', 'age': '25 years', 'grade': 'graduate'}\n",
      "{'_id': ObjectId('62d4d5fdb1bbdc08801f5e0f'), 'name': 'abdul', 'age': '24 years', 'grade': 'undergraduate'}\n",
      "{'_id': ObjectId('62d4d5fdb1bbdc08801f5e10'), 'name': 'raju', 'age': '24 years', 'grade': 'no', 'status': 'unemployee'}\n",
      "{'_id': ObjectId('62d4d5fdb1bbdc08801f5e11'), 'name': 'john', 'age': '21 years', 'grade': '12A'}\n",
      "{'_id': ObjectId('62d4d5fdb1bbdc08801f5e12'), 'name': 'sharmila', 'age': '24 years', 'grade': 'undergraduate', 'university': 'UoP'}\n"
     ]
    }
   ],
   "source": [
    "for record in information.find():\n",
    "    print(record)"
   ]
  },
  {
   "cell_type": "code",
   "execution_count": 24,
   "metadata": {},
   "outputs": [
    {
     "name": "stdout",
     "output_type": "stream",
     "text": [
      "{'_id': ObjectId('62ce6c2de1f315802e87d8d1'), 'name': 'abdul', 'age': '24 years', 'grade': 'undergraduate'}\n",
      "{'_id': ObjectId('62ce6c2de1f315802e87d8d2'), 'name': 'raju', 'age': '24 years', 'grade': 'no', 'status': 'unemployee'}\n",
      "{'_id': ObjectId('62ce6c2de1f315802e87d8d4'), 'name': 'sharmila', 'age': '24 years', 'grade': 'undergraduate', 'university': 'UoP'}\n",
      "{'_id': ObjectId('62d4d5fdb1bbdc08801f5e0f'), 'name': 'abdul', 'age': '24 years', 'grade': 'undergraduate'}\n",
      "{'_id': ObjectId('62d4d5fdb1bbdc08801f5e10'), 'name': 'raju', 'age': '24 years', 'grade': 'no', 'status': 'unemployee'}\n",
      "{'_id': ObjectId('62d4d5fdb1bbdc08801f5e12'), 'name': 'sharmila', 'age': '24 years', 'grade': 'undergraduate', 'university': 'UoP'}\n"
     ]
    }
   ],
   "source": [
    "for record in information.find({'age':'24 years'}):\n",
    "    print(record)"
   ]
  },
  {
   "cell_type": "code",
   "execution_count": 25,
   "metadata": {},
   "outputs": [
    {
     "name": "stdout",
     "output_type": "stream",
     "text": [
      "{'_id': ObjectId('62ce6c2de1f315802e87d8d1'), 'name': 'abdul', 'age': '24 years', 'grade': 'undergraduate'}\n",
      "{'_id': ObjectId('62ce6c2de1f315802e87d8d2'), 'name': 'raju', 'age': '24 years', 'grade': 'no', 'status': 'unemployee'}\n",
      "{'_id': ObjectId('62ce6c2de1f315802e87d8d4'), 'name': 'sharmila', 'age': '24 years', 'grade': 'undergraduate', 'university': 'UoP'}\n",
      "{'_id': ObjectId('62d4d5fdb1bbdc08801f5e0f'), 'name': 'abdul', 'age': '24 years', 'grade': 'undergraduate'}\n",
      "{'_id': ObjectId('62d4d5fdb1bbdc08801f5e10'), 'name': 'raju', 'age': '24 years', 'grade': 'no', 'status': 'unemployee'}\n",
      "{'_id': ObjectId('62d4d5fdb1bbdc08801f5e12'), 'name': 'sharmila', 'age': '24 years', 'grade': 'undergraduate', 'university': 'UoP'}\n"
     ]
    }
   ],
   "source": [
    "# query using query operator    $lt - less than $gt - greater than\n",
    "for record in information.find({'grade': {'$in': ['undergraduate','no']}}):\n",
    "    print(record)"
   ]
  },
  {
   "cell_type": "code",
   "execution_count": 26,
   "metadata": {},
   "outputs": [
    {
     "name": "stdout",
     "output_type": "stream",
     "text": [
      "{'_id': ObjectId('62ce6c2de1f315802e87d8d1'), 'name': 'abdul', 'age': '24 years', 'grade': 'undergraduate'}\n",
      "{'_id': ObjectId('62ce6c2de1f315802e87d8d2'), 'name': 'raju', 'age': '24 years', 'grade': 'no', 'status': 'unemployee'}\n",
      "{'_id': ObjectId('62ce6c2de1f315802e87d8d4'), 'name': 'sharmila', 'age': '24 years', 'grade': 'undergraduate', 'university': 'UoP'}\n",
      "{'_id': ObjectId('62d4d5fdb1bbdc08801f5e0f'), 'name': 'abdul', 'age': '24 years', 'grade': 'undergraduate'}\n",
      "{'_id': ObjectId('62d4d5fdb1bbdc08801f5e10'), 'name': 'raju', 'age': '24 years', 'grade': 'no', 'status': 'unemployee'}\n",
      "{'_id': ObjectId('62d4d5fdb1bbdc08801f5e12'), 'name': 'sharmila', 'age': '24 years', 'grade': 'undergraduate', 'university': 'UoP'}\n"
     ]
    }
   ],
   "source": [
    "# OR operator \n",
    "for record in information.find({'$or': [{'age':'24 years'},{'grade':'undergraduate'}]}):\n",
    "    print(record)"
   ]
  },
  {
   "cell_type": "code",
   "execution_count": 27,
   "metadata": {},
   "outputs": [
    {
     "name": "stdout",
     "output_type": "stream",
     "text": [
      "{'_id': ObjectId('62ce6c2de1f315802e87d8d1'), 'name': 'abdul', 'age': '24 years', 'grade': 'undergraduate'}\n",
      "{'_id': ObjectId('62ce6c2de1f315802e87d8d4'), 'name': 'sharmila', 'age': '24 years', 'grade': 'undergraduate', 'university': 'UoP'}\n",
      "{'_id': ObjectId('62d4d5fdb1bbdc08801f5e0f'), 'name': 'abdul', 'age': '24 years', 'grade': 'undergraduate'}\n",
      "{'_id': ObjectId('62d4d5fdb1bbdc08801f5e12'), 'name': 'sharmila', 'age': '24 years', 'grade': 'undergraduate', 'university': 'UoP'}\n"
     ]
    }
   ],
   "source": [
    "# AND operator \n",
    "for record in information.find({'$and': [{'age':'24 years'},{'grade':'undergraduate'}]}):\n",
    "    print(record)"
   ]
  },
  {
   "cell_type": "code",
   "execution_count": 28,
   "metadata": {},
   "outputs": [],
   "source": [
    "inventory = mydb.inventory"
   ]
  },
  {
   "cell_type": "code",
   "execution_count": 29,
   "metadata": {},
   "outputs": [
    {
     "ename": "BulkWriteError",
     "evalue": "batch op errors occurred, full error: {'writeErrors': [{'index': 0, 'code': 11000, 'keyPattern': {'_id': 1}, 'keyValue': {'_id': 12}, 'errmsg': 'E11000 duplicate key error collection: employee.inventory index: _id_ dup key: { _id: 12 }', 'op': {'_id': 12, 'name': 'ram', 'size': {'s': 14, 'm': 17, 'l': 19}, 'price': 147}}], 'writeConcernErrors': [], 'nInserted': 0, 'nUpserted': 0, 'nMatched': 0, 'nModified': 0, 'nRemoved': 0, 'upserted': []}",
     "output_type": "error",
     "traceback": [
      "\u001b[1;31m---------------------------------------------------------------------------\u001b[0m",
      "\u001b[1;31mBulkWriteError\u001b[0m                            Traceback (most recent call last)",
      "\u001b[1;32md:\\Practice Project\\database\\mongo db\\mongodb_tute.ipynb Cell 11'\u001b[0m in \u001b[0;36m<cell line: 1>\u001b[1;34m()\u001b[0m\n\u001b[1;32m----> <a href='vscode-notebook-cell:/d%3A/Practice%20Project/database/mongo%20db/mongodb_tute.ipynb#ch0000011?line=0'>1</a>\u001b[0m inventory\u001b[39m.\u001b[39;49minsert_many([\n\u001b[0;32m      <a href='vscode-notebook-cell:/d%3A/Practice%20Project/database/mongo%20db/mongodb_tute.ipynb#ch0000011?line=1'>2</a>\u001b[0m     {\u001b[39m'\u001b[39;49m\u001b[39m_id\u001b[39;49m\u001b[39m'\u001b[39;49m:\u001b[39m12\u001b[39;49m,\u001b[39m'\u001b[39;49m\u001b[39mname\u001b[39;49m\u001b[39m'\u001b[39;49m:\u001b[39m'\u001b[39;49m\u001b[39mram\u001b[39;49m\u001b[39m'\u001b[39;49m,\u001b[39m'\u001b[39;49m\u001b[39msize\u001b[39;49m\u001b[39m'\u001b[39;49m:{\u001b[39m'\u001b[39;49m\u001b[39ms\u001b[39;49m\u001b[39m'\u001b[39;49m:\u001b[39m14\u001b[39;49m,\u001b[39m'\u001b[39;49m\u001b[39mm\u001b[39;49m\u001b[39m'\u001b[39;49m:\u001b[39m17\u001b[39;49m,\u001b[39m'\u001b[39;49m\u001b[39ml\u001b[39;49m\u001b[39m'\u001b[39;49m:\u001b[39m19\u001b[39;49m},\u001b[39m'\u001b[39;49m\u001b[39mprice\u001b[39;49m\u001b[39m'\u001b[39;49m:\u001b[39m147\u001b[39;49m},\n\u001b[0;32m      <a href='vscode-notebook-cell:/d%3A/Practice%20Project/database/mongo%20db/mongodb_tute.ipynb#ch0000011?line=2'>3</a>\u001b[0m     {\u001b[39m'\u001b[39;49m\u001b[39m_id\u001b[39;49m\u001b[39m'\u001b[39;49m:\u001b[39m13\u001b[39;49m,\u001b[39m'\u001b[39;49m\u001b[39mname\u001b[39;49m\u001b[39m'\u001b[39;49m:\u001b[39m'\u001b[39;49m\u001b[39mmouse\u001b[39;49m\u001b[39m'\u001b[39;49m,\u001b[39m'\u001b[39;49m\u001b[39msize\u001b[39;49m\u001b[39m'\u001b[39;49m:{\u001b[39m'\u001b[39;49m\u001b[39ms\u001b[39;49m\u001b[39m'\u001b[39;49m:\u001b[39m11\u001b[39;49m,\u001b[39m'\u001b[39;49m\u001b[39mm\u001b[39;49m\u001b[39m'\u001b[39;49m:\u001b[39m12\u001b[39;49m,\u001b[39m'\u001b[39;49m\u001b[39ml\u001b[39;49m\u001b[39m'\u001b[39;49m:\u001b[39m'\u001b[39;49m\u001b[39mfree\u001b[39;49m\u001b[39m'\u001b[39;49m},\u001b[39m'\u001b[39;49m\u001b[39mprice\u001b[39;49m\u001b[39m'\u001b[39;49m:\u001b[39m107\u001b[39;49m},\n\u001b[0;32m      <a href='vscode-notebook-cell:/d%3A/Practice%20Project/database/mongo%20db/mongodb_tute.ipynb#ch0000011?line=3'>4</a>\u001b[0m     {\u001b[39m'\u001b[39;49m\u001b[39m_id\u001b[39;49m\u001b[39m'\u001b[39;49m:\u001b[39m14\u001b[39;49m,\u001b[39m'\u001b[39;49m\u001b[39mname\u001b[39;49m\u001b[39m'\u001b[39;49m:\u001b[39m'\u001b[39;49m\u001b[39mrom\u001b[39;49m\u001b[39m'\u001b[39;49m,\u001b[39m'\u001b[39;49m\u001b[39msize\u001b[39;49m\u001b[39m'\u001b[39;49m:\u001b[39m'\u001b[39;49m\u001b[39mfree\u001b[39;49m\u001b[39m'\u001b[39;49m,\u001b[39m'\u001b[39;49m\u001b[39mprice\u001b[39;49m\u001b[39m'\u001b[39;49m:\u001b[39m199\u001b[39;49m},\n\u001b[0;32m      <a href='vscode-notebook-cell:/d%3A/Practice%20Project/database/mongo%20db/mongodb_tute.ipynb#ch0000011?line=4'>5</a>\u001b[0m     {\u001b[39m'\u001b[39;49m\u001b[39m_id\u001b[39;49m\u001b[39m'\u001b[39;49m:\u001b[39m15\u001b[39;49m,\u001b[39m'\u001b[39;49m\u001b[39mname\u001b[39;49m\u001b[39m'\u001b[39;49m:\u001b[39m'\u001b[39;49m\u001b[39mcharger\u001b[39;49m\u001b[39m'\u001b[39;49m,\u001b[39m'\u001b[39;49m\u001b[39msize\u001b[39;49m\u001b[39m'\u001b[39;49m:{\u001b[39m'\u001b[39;49m\u001b[39ms\u001b[39;49m\u001b[39m'\u001b[39;49m:\u001b[39m2\u001b[39;49m,\u001b[39m'\u001b[39;49m\u001b[39mm\u001b[39;49m\u001b[39m'\u001b[39;49m:\u001b[39m2.5\u001b[39;49m,\u001b[39m'\u001b[39;49m\u001b[39ml\u001b[39;49m\u001b[39m'\u001b[39;49m:\u001b[39m4\u001b[39;49m},\u001b[39m'\u001b[39;49m\u001b[39mprice\u001b[39;49m\u001b[39m'\u001b[39;49m:\u001b[39m117\u001b[39;49m},\n\u001b[0;32m      <a href='vscode-notebook-cell:/d%3A/Practice%20Project/database/mongo%20db/mongodb_tute.ipynb#ch0000011?line=5'>6</a>\u001b[0m     {\u001b[39m'\u001b[39;49m\u001b[39m_id\u001b[39;49m\u001b[39m'\u001b[39;49m:\u001b[39m16\u001b[39;49m,\u001b[39m'\u001b[39;49m\u001b[39mname\u001b[39;49m\u001b[39m'\u001b[39;49m:\u001b[39m'\u001b[39;49m\u001b[39mdisplay\u001b[39;49m\u001b[39m'\u001b[39;49m,\u001b[39m'\u001b[39;49m\u001b[39msize\u001b[39;49m\u001b[39m'\u001b[39;49m:{\u001b[39m'\u001b[39;49m\u001b[39ms\u001b[39;49m\u001b[39m'\u001b[39;49m:\u001b[39m30\u001b[39;49m,\u001b[39m'\u001b[39;49m\u001b[39mm\u001b[39;49m\u001b[39m'\u001b[39;49m:\u001b[39m45\u001b[39;49m,\u001b[39m'\u001b[39;49m\u001b[39ml\u001b[39;49m\u001b[39m'\u001b[39;49m:\u001b[39m74\u001b[39;49m},\u001b[39m'\u001b[39;49m\u001b[39mprice\u001b[39;49m\u001b[39m'\u001b[39;49m:\u001b[39m150\u001b[39;49m},\n\u001b[0;32m      <a href='vscode-notebook-cell:/d%3A/Practice%20Project/database/mongo%20db/mongodb_tute.ipynb#ch0000011?line=6'>7</a>\u001b[0m ])\n",
      "File \u001b[1;32mc:\\Users\\ABDUL WAJITH\\anaconda3\\lib\\site-packages\\pymongo\\collection.py:691\u001b[0m, in \u001b[0;36mCollection.insert_many\u001b[1;34m(self, documents, ordered, bypass_document_validation, session, comment)\u001b[0m\n\u001b[0;32m    689\u001b[0m blk \u001b[39m=\u001b[39m _Bulk(\u001b[39mself\u001b[39m, ordered, bypass_document_validation, comment\u001b[39m=\u001b[39mcomment)\n\u001b[0;32m    690\u001b[0m blk\u001b[39m.\u001b[39mops \u001b[39m=\u001b[39m [doc \u001b[39mfor\u001b[39;00m doc \u001b[39min\u001b[39;00m gen()]\n\u001b[1;32m--> 691\u001b[0m blk\u001b[39m.\u001b[39;49mexecute(write_concern, session\u001b[39m=\u001b[39;49msession)\n\u001b[0;32m    692\u001b[0m \u001b[39mreturn\u001b[39;00m InsertManyResult(inserted_ids, write_concern\u001b[39m.\u001b[39macknowledged)\n",
      "File \u001b[1;32mc:\\Users\\ABDUL WAJITH\\anaconda3\\lib\\site-packages\\pymongo\\bulk.py:512\u001b[0m, in \u001b[0;36m_Bulk.execute\u001b[1;34m(self, write_concern, session)\u001b[0m\n\u001b[0;32m    510\u001b[0m         \u001b[39mself\u001b[39m\u001b[39m.\u001b[39mexecute_no_results(sock_info, generator, write_concern)\n\u001b[0;32m    511\u001b[0m \u001b[39melse\u001b[39;00m:\n\u001b[1;32m--> 512\u001b[0m     \u001b[39mreturn\u001b[39;00m \u001b[39mself\u001b[39;49m\u001b[39m.\u001b[39;49mexecute_command(generator, write_concern, session)\n",
      "File \u001b[1;32mc:\\Users\\ABDUL WAJITH\\anaconda3\\lib\\site-packages\\pymongo\\bulk.py:393\u001b[0m, in \u001b[0;36m_Bulk.execute_command\u001b[1;34m(self, generator, write_concern, session)\u001b[0m\n\u001b[0;32m    390\u001b[0m     client\u001b[39m.\u001b[39m_retry_with_session(\u001b[39mself\u001b[39m\u001b[39m.\u001b[39mis_retryable, retryable_bulk, s, \u001b[39mself\u001b[39m)\n\u001b[0;32m    392\u001b[0m \u001b[39mif\u001b[39;00m full_result[\u001b[39m\"\u001b[39m\u001b[39mwriteErrors\u001b[39m\u001b[39m\"\u001b[39m] \u001b[39mor\u001b[39;00m full_result[\u001b[39m\"\u001b[39m\u001b[39mwriteConcernErrors\u001b[39m\u001b[39m\"\u001b[39m]:\n\u001b[1;32m--> 393\u001b[0m     _raise_bulk_write_error(full_result)\n\u001b[0;32m    394\u001b[0m \u001b[39mreturn\u001b[39;00m full_result\n",
      "File \u001b[1;32mc:\\Users\\ABDUL WAJITH\\anaconda3\\lib\\site-packages\\pymongo\\bulk.py:136\u001b[0m, in \u001b[0;36m_raise_bulk_write_error\u001b[1;34m(full_result)\u001b[0m\n\u001b[0;32m    134\u001b[0m \u001b[39mif\u001b[39;00m full_result[\u001b[39m\"\u001b[39m\u001b[39mwriteErrors\u001b[39m\u001b[39m\"\u001b[39m]:\n\u001b[0;32m    135\u001b[0m     full_result[\u001b[39m\"\u001b[39m\u001b[39mwriteErrors\u001b[39m\u001b[39m\"\u001b[39m]\u001b[39m.\u001b[39msort(key\u001b[39m=\u001b[39m\u001b[39mlambda\u001b[39;00m error: error[\u001b[39m\"\u001b[39m\u001b[39mindex\u001b[39m\u001b[39m\"\u001b[39m])\n\u001b[1;32m--> 136\u001b[0m \u001b[39mraise\u001b[39;00m BulkWriteError(full_result)\n",
      "\u001b[1;31mBulkWriteError\u001b[0m: batch op errors occurred, full error: {'writeErrors': [{'index': 0, 'code': 11000, 'keyPattern': {'_id': 1}, 'keyValue': {'_id': 12}, 'errmsg': 'E11000 duplicate key error collection: employee.inventory index: _id_ dup key: { _id: 12 }', 'op': {'_id': 12, 'name': 'ram', 'size': {'s': 14, 'm': 17, 'l': 19}, 'price': 147}}], 'writeConcernErrors': [], 'nInserted': 0, 'nUpserted': 0, 'nMatched': 0, 'nModified': 0, 'nRemoved': 0, 'upserted': []}"
     ]
    }
   ],
   "source": [
    "inventory.insert_many([\n",
    "    {'_id':12,'name':'ram','size':{'s':14,'m':17,'l':19},'price':147},\n",
    "    {'_id':13,'name':'mouse','size':{'s':11,'m':12,'l':'free'},'price':107},\n",
    "    {'_id':14,'name':'rom','size':'free','price':199},\n",
    "    {'_id':15,'name':'charger','size':{'s':2,'m':2.5,'l':4},'price':117},\n",
    "    {'_id':16,'name':'display','size':{'s':30,'m':45,'l':74},'price':150},\n",
    "])"
   ]
  },
  {
   "cell_type": "code",
   "execution_count": null,
   "metadata": {},
   "outputs": [
    {
     "name": "stdout",
     "output_type": "stream",
     "text": [
      "{'_id': 12, 'name': 'ram', 'size': {'s': 14, 'm': 17, 'l': 19}, 'price': 147}\n",
      "{'_id': 13, 'name': 'mouse', 'size': {'s': 11, 'm': 12, 'l': 'free'}, 'price': 107}\n",
      "{'_id': 14, 'name': 'rom', 'size': 'free', 'price': 199}\n",
      "{'_id': 15, 'name': 'charger', 'size': {'s': 2, 'm': 2.5, 'l': 4}, 'price': 117}\n",
      "{'_id': 16, 'name': 'display', 'size': {'s': 30, 'm': 45, 'l': 74}, 'price': 150}\n"
     ]
    }
   ],
   "source": [
    "for record in inventory.find():\n",
    "    print(record)"
   ]
  },
  {
   "cell_type": "code",
   "execution_count": null,
   "metadata": {},
   "outputs": [
    {
     "data": {
      "text/plain": [
       "<pymongo.results.UpdateResult at 0x199acd40a90>"
      ]
     },
     "execution_count": 14,
     "metadata": {},
     "output_type": "execute_result"
    }
   ],
   "source": [
    "inventory.update_one(\n",
    "    {'_id':12},\n",
    "    {'$set': {'price':100,'discount':47},\n",
    "    '$currentDate':{'modifiedDate':True}}\n",
    ")"
   ]
  },
  {
   "cell_type": "code",
   "execution_count": null,
   "metadata": {},
   "outputs": [
    {
     "name": "stdout",
     "output_type": "stream",
     "text": [
      "{'_id': 12, 'name': 'ram', 'size': {'s': 14, 'm': 17, 'l': 19}, 'price': 100, 'discount': 47, 'modifiedDate': datetime.datetime(2022, 7, 15, 16, 27, 13, 895000)}\n",
      "{'_id': 13, 'name': 'mouse', 'size': {'s': 11, 'm': 12, 'l': 'free'}, 'price': 107}\n",
      "{'_id': 14, 'name': 'rom', 'size': 'free', 'price': 199}\n",
      "{'_id': 15, 'name': 'charger', 'size': {'s': 2, 'm': 2.5, 'l': 4}, 'price': 117}\n",
      "{'_id': 16, 'name': 'display', 'size': {'s': 30, 'm': 45, 'l': 74}, 'price': 150}\n"
     ]
    }
   ],
   "source": [
    "for record in inventory.find():\n",
    "    print(record)"
   ]
  },
  {
   "cell_type": "code",
   "execution_count": null,
   "metadata": {},
   "outputs": [
    {
     "data": {
      "text/plain": [
       "<pymongo.results.UpdateResult at 0x199ab0fefa0>"
      ]
     },
     "execution_count": 17,
     "metadata": {},
     "output_type": "execute_result"
    }
   ],
   "source": [
    "inventory.update_many(\n",
    "    {'price':{'$lt':150}},\n",
    "    {'$set':{'discount':'10%'},\n",
    "    '$currentDate':{'modifiedDate':True}}\n",
    ")"
   ]
  },
  {
   "cell_type": "code",
   "execution_count": null,
   "metadata": {},
   "outputs": [
    {
     "name": "stdout",
     "output_type": "stream",
     "text": [
      "{'_id': 12, 'name': 'ram', 'size': {'s': 14, 'm': 17, 'l': 19}, 'price': 100, 'discount': '10%', 'modifiedDate': datetime.datetime(2022, 7, 15, 16, 31, 16, 236000)}\n",
      "{'_id': 13, 'name': 'mouse', 'size': {'s': 11, 'm': 12, 'l': 'free'}, 'price': 107, 'discount': '10%', 'modifiedDate': datetime.datetime(2022, 7, 15, 16, 31, 16, 237000)}\n",
      "{'_id': 14, 'name': 'rom', 'size': 'free', 'price': 199}\n",
      "{'_id': 15, 'name': 'charger', 'size': {'s': 2, 'm': 2.5, 'l': 4}, 'price': 117, 'discount': '10%', 'modifiedDate': datetime.datetime(2022, 7, 15, 16, 31, 16, 237000)}\n",
      "{'_id': 16, 'name': 'display', 'size': {'s': 30, 'm': 45, 'l': 74}, 'price': 150}\n"
     ]
    }
   ],
   "source": [
    "for record in inventory.find():\n",
    "    print(record)"
   ]
  },
  {
   "cell_type": "markdown",
   "metadata": {},
   "source": [
    "### Aggregated"
   ]
  },
  {
   "cell_type": "code",
   "execution_count": null,
   "metadata": {},
   "outputs": [],
   "source": []
  }
 ],
 "metadata": {
  "kernelspec": {
   "display_name": "Python 3.9.12 ('base')",
   "language": "python",
   "name": "python3"
  },
  "language_info": {
   "codemirror_mode": {
    "name": "ipython",
    "version": 3
   },
   "file_extension": ".py",
   "mimetype": "text/x-python",
   "name": "python",
   "nbconvert_exporter": "python",
   "pygments_lexer": "ipython3",
   "version": "3.9.12"
  },
  "orig_nbformat": 4,
  "vscode": {
   "interpreter": {
    "hash": "1cbc55c5a6e242aa26c4444892c76c3fa137d09b0cc2c583a0044c6feee99c32"
   }
  }
 },
 "nbformat": 4,
 "nbformat_minor": 2
}
