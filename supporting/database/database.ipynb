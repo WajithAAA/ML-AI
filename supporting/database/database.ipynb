{
 "cells": [
  {
   "cell_type": "code",
   "execution_count": 1,
   "metadata": {},
   "outputs": [
    {
     "name": "stdout",
     "output_type": "stream",
     "text": [
      "Requirement already satisfied: pymongo in c:\\users\\abdul wajith\\anaconda3\\lib\\site-packages (4.1.1)\n"
     ]
    }
   ],
   "source": [
    "#!pip install pymongo"
   ]
  },
  {
   "cell_type": "code",
   "execution_count": 4,
   "metadata": {},
   "outputs": [],
   "source": [
    "import pymongo\n",
    "\n",
    "client = pymongo.MongoClient('mongodb://localhost:27017')\n",
    "\n",
    "mydb = client['employee']\n",
    "\n",
    "emp_info = mydb.employeeInformations"
   ]
  },
  {
   "cell_type": "code",
   "execution_count": 5,
   "metadata": {},
   "outputs": [
    {
     "data": {
      "text/plain": [
       "<pymongo.results.InsertOneResult at 0x196ece0a160>"
      ]
     },
     "execution_count": 5,
     "metadata": {},
     "output_type": "execute_result"
    }
   ],
   "source": [
    "record = {\n",
    "    \"firstname\":\"Abdul\",\n",
    "    \"lastname\":\"Wajith\",\n",
    "    \"age\":\"25y\",\n",
    "}\n",
    "emp_info.insert_one(record)"
   ]
  },
  {
   "cell_type": "code",
   "execution_count": 6,
   "metadata": {},
   "outputs": [
    {
     "data": {
      "text/plain": [
       "<pymongo.results.InsertManyResult at 0x196ece05040>"
      ]
     },
     "execution_count": 6,
     "metadata": {},
     "output_type": "execute_result"
    }
   ],
   "source": [
    "records = [{\n",
    "    \"firstname\":\"Abdul\",\n",
    "    \"lastname\":\"Wajith\",\n",
    "    \"age\":\"25y\",\n",
    "},\n",
    "{\n",
    "    \"firstname\":\"Sharmia\",\n",
    "    \"lastname\":\"Riyath\",\n",
    "    \"age\":\"24y\",\n",
    "    \"status\":\"Married\",\n",
    "}]\n",
    "emp_info.insert_many(records)"
   ]
  },
  {
   "cell_type": "code",
   "execution_count": 19,
   "metadata": {},
   "outputs": [
    {
     "data": {
      "text/plain": [
       "Name    object\n",
       "age      int64\n",
       "dtype: object"
      ]
     },
     "execution_count": 19,
     "metadata": {},
     "output_type": "execute_result"
    }
   ],
   "source": [
    "import pandas as pd\n",
    "import numpy as np\n",
    "\n",
    "df = pd.DataFrame({'Name':[\"wajiht\",24,\"defherv\",\"eceuhruv\"],\n",
    "                        \"age\":[14,54,14,24]})\n",
    "df.dtypes"
   ]
  },
  {
   "cell_type": "code",
   "execution_count": 28,
   "metadata": {},
   "outputs": [
    {
     "data": {
      "text/plain": [
       "Name    object\n",
       "age     object\n",
       "dtype: object"
      ]
     },
     "execution_count": 28,
     "metadata": {},
     "output_type": "execute_result"
    }
   ],
   "source": [
    "df[df.columns] = df[df.columns].apply(lambda x: str(x))\n",
    "df.dtypes"
   ]
  },
  {
   "cell_type": "code",
   "execution_count": 29,
   "metadata": {},
   "outputs": [],
   "source": [
    "df['Name'] = df['Name'].astype(str)"
   ]
  },
  {
   "cell_type": "code",
   "execution_count": 41,
   "metadata": {},
   "outputs": [
    {
     "data": {
      "text/plain": [
       "A    int64\n",
       "B    int64\n",
       "dtype: object"
      ]
     },
     "execution_count": 41,
     "metadata": {},
     "output_type": "execute_result"
    }
   ],
   "source": [
    "df1 = pd.DataFrame({\"A\":[10,11,10,12,42],\n",
    "                \"B\":[20,45,40,51,14]})\n",
    "df1.dtypes"
   ]
  },
  {
   "cell_type": "code",
   "execution_count": 44,
   "metadata": {},
   "outputs": [
    {
     "data": {
      "text/plain": [
       "A     85\n",
       "B    170\n",
       "dtype: int64"
      ]
     },
     "execution_count": 44,
     "metadata": {},
     "output_type": "execute_result"
    }
   ],
   "source": [
    "import numpy as np\n",
    "def avg(x):\n",
    "    return np.sum(x)/len(x)\n",
    "\n",
    "df2 = df1[[\"A\",'B']].apply(lambda x: sum(x)) \n",
    "df2"
   ]
  },
  {
   "cell_type": "code",
   "execution_count": 76,
   "metadata": {},
   "outputs": [
    {
     "name": "stderr",
     "output_type": "stream",
     "text": [
      "C:\\Users\\ABDUL WAJITH\\AppData\\Local\\Temp\\ipykernel_9628\\3390715701.py:4: FutureWarning: The default value of regex will change from True to False in a future version.\n",
      "  data[['Name','Place']]=data[['Name','Place']].apply(lambda x: x.str.replace(r'[^a-zA-Z]', ''))\n"
     ]
    },
    {
     "data": {
      "text/html": [
       "<div>\n",
       "<style scoped>\n",
       "    .dataframe tbody tr th:only-of-type {\n",
       "        vertical-align: middle;\n",
       "    }\n",
       "\n",
       "    .dataframe tbody tr th {\n",
       "        vertical-align: top;\n",
       "    }\n",
       "\n",
       "    .dataframe thead th {\n",
       "        text-align: right;\n",
       "    }\n",
       "</style>\n",
       "<table border=\"1\" class=\"dataframe\">\n",
       "  <thead>\n",
       "    <tr style=\"text-align: right;\">\n",
       "      <th></th>\n",
       "      <th>Name</th>\n",
       "      <th>Place</th>\n",
       "    </tr>\n",
       "  </thead>\n",
       "  <tbody>\n",
       "    <tr>\n",
       "      <th>0</th>\n",
       "      <td>AbdulWajith</td>\n",
       "      <td>Pandarawali</td>\n",
       "    </tr>\n",
       "    <tr>\n",
       "      <th>1</th>\n",
       "      <td>ASahr</td>\n",
       "      <td>veppankulam</td>\n",
       "    </tr>\n",
       "    <tr>\n",
       "      <th>2</th>\n",
       "      <td>Awarwee</td>\n",
       "      <td>Chilawthurai</td>\n",
       "    </tr>\n",
       "  </tbody>\n",
       "</table>\n",
       "</div>"
      ],
      "text/plain": [
       "          Name         Place\n",
       "0  AbdulWajith   Pandarawali\n",
       "1        ASahr   veppankulam\n",
       "2      Awarwee  Chilawthurai"
      ]
     },
     "execution_count": 76,
     "metadata": {},
     "output_type": "execute_result"
    }
   ],
   "source": [
    "import pandas as pd\n",
    "data = pd.DataFrame({'Name':[\"Abdul   Wajith\",\"A.  Sahr\",\"Awar wee\"],\n",
    "            \"Place\":[\"Pandara   wali\", \"veppan kulam\",\"Chilaw  thurai\"]})\n",
    "data[['Name','Place']]=data[['Name','Place']].apply(lambda x: x.str.replace(r'[^a-zA-Z]', ''))\n",
    "data.head()"
   ]
  },
  {
   "cell_type": "code",
   "execution_count": 90,
   "metadata": {},
   "outputs": [
    {
     "name": "stderr",
     "output_type": "stream",
     "text": [
      "C:\\Users\\ABDUL WAJITH\\AppData\\Local\\Temp\\ipykernel_9628\\964102838.py:3: FutureWarning: The default value of regex will change from True to False in a future version.\n",
      "  data[['Name','Place']]=data[['Name','Place']].apply(lambda x: x.str.replace(r'[^a-zA-Z]', ' '))\n"
     ]
    },
    {
     "data": {
      "text/html": [
       "<div>\n",
       "<style scoped>\n",
       "    .dataframe tbody tr th:only-of-type {\n",
       "        vertical-align: middle;\n",
       "    }\n",
       "\n",
       "    .dataframe tbody tr th {\n",
       "        vertical-align: top;\n",
       "    }\n",
       "\n",
       "    .dataframe thead th {\n",
       "        text-align: right;\n",
       "    }\n",
       "</style>\n",
       "<table border=\"1\" class=\"dataframe\">\n",
       "  <thead>\n",
       "    <tr style=\"text-align: right;\">\n",
       "      <th></th>\n",
       "      <th>Name</th>\n",
       "      <th>Place</th>\n",
       "    </tr>\n",
       "  </thead>\n",
       "  <tbody>\n",
       "    <tr>\n",
       "      <th>0</th>\n",
       "      <td>Abdul   Wajith</td>\n",
       "      <td>Pandara   wali</td>\n",
       "    </tr>\n",
       "    <tr>\n",
       "      <th>1</th>\n",
       "      <td>A   Sahr</td>\n",
       "      <td>veppan kulam</td>\n",
       "    </tr>\n",
       "    <tr>\n",
       "      <th>2</th>\n",
       "      <td>Awar wee</td>\n",
       "      <td>Chilaw  thurai</td>\n",
       "    </tr>\n",
       "  </tbody>\n",
       "</table>\n",
       "</div>"
      ],
      "text/plain": [
       "              Name            Place\n",
       "0   Abdul   Wajith   Pandara   wali\n",
       "1         A   Sahr     veppan kulam\n",
       "2         Awar wee   Chilaw  thurai"
      ]
     },
     "execution_count": 90,
     "metadata": {},
     "output_type": "execute_result"
    }
   ],
   "source": [
    "data = pd.DataFrame({'Name':[\" Abdul   Wajith\",\"A.  Sahr\",\"  Awar wee\"],\n",
    "            \"Place\":[\" Pandara   wali\", \" veppan kulam\",\"Chilaw  thurai\"]})\n",
    "data[['Name','Place']]=data[['Name','Place']].apply(lambda x: x.str.replace(r'[^a-zA-Z]', ' '))\n",
    "data.head()"
   ]
  },
  {
   "cell_type": "code",
   "execution_count": 91,
   "metadata": {},
   "outputs": [
    {
     "data": {
      "text/html": [
       "<div>\n",
       "<style scoped>\n",
       "    .dataframe tbody tr th:only-of-type {\n",
       "        vertical-align: middle;\n",
       "    }\n",
       "\n",
       "    .dataframe tbody tr th {\n",
       "        vertical-align: top;\n",
       "    }\n",
       "\n",
       "    .dataframe thead th {\n",
       "        text-align: right;\n",
       "    }\n",
       "</style>\n",
       "<table border=\"1\" class=\"dataframe\">\n",
       "  <thead>\n",
       "    <tr style=\"text-align: right;\">\n",
       "      <th></th>\n",
       "      <th>Name</th>\n",
       "      <th>Place</th>\n",
       "    </tr>\n",
       "  </thead>\n",
       "  <tbody>\n",
       "    <tr>\n",
       "      <th>0</th>\n",
       "      <td>Abdul   Wajith</td>\n",
       "      <td>Pandara   wali</td>\n",
       "    </tr>\n",
       "    <tr>\n",
       "      <th>1</th>\n",
       "      <td>A   Sahr</td>\n",
       "      <td>veppan kulam</td>\n",
       "    </tr>\n",
       "    <tr>\n",
       "      <th>2</th>\n",
       "      <td>Awar wee</td>\n",
       "      <td>Chilaw  thurai</td>\n",
       "    </tr>\n",
       "  </tbody>\n",
       "</table>\n",
       "</div>"
      ],
      "text/plain": [
       "              Name            Place\n",
       "0   Abdul   Wajith   Pandara   wali\n",
       "1         A   Sahr     veppan kulam\n",
       "2         Awar wee   Chilaw  thurai"
      ]
     },
     "execution_count": 91,
     "metadata": {},
     "output_type": "execute_result"
    }
   ],
   "source": [
    "data.columns = data.columns.str.strip()\n",
    "data"
   ]
  },
  {
   "cell_type": "code",
   "execution_count": null,
   "metadata": {},
   "outputs": [],
   "source": [
    "def row_val(x):\n",
    "    return str()"
   ]
  },
  {
   "cell_type": "code",
   "execution_count": 78,
   "metadata": {},
   "outputs": [
    {
     "data": {
      "text/plain": [
       "[{'name': 'Abdul   Wajith', 'place': 'Pandara   wali'},\n",
       " {'name': 'A   Sahr', 'place': 'veppan kulam'},\n",
       " {'name': 'Awar wee', 'place': 'Chilaw  thurai'}]"
      ]
     },
     "execution_count": 78,
     "metadata": {},
     "output_type": "execute_result"
    }
   ],
   "source": [
    "e =[]\n",
    "for inx,row in data.iterrows():\n",
    "    name = str(row['Name']).strip()\n",
    "    Place = str(row['Place']).strip()\n",
    "\n",
    "    ent = {\"name\":name,\"place\":Place}\n",
    "    e.append(ent)\n",
    "e"
   ]
  },
  {
   "cell_type": "code",
   "execution_count": null,
   "metadata": {},
   "outputs": [],
   "source": []
  },
  {
   "cell_type": "code",
   "execution_count": 80,
   "metadata": {},
   "outputs": [
    {
     "data": {
      "text/plain": [
       "[{'name': 'Abdul   Wajith', 'place': 'Pandara   wali'},\n",
       " {'name': 'A   Sahr', 'place': 'veppan kulam'},\n",
       " {'name': 'Awar wee', 'place': 'Chilaw  thurai'}]"
      ]
     },
     "execution_count": 80,
     "metadata": {},
     "output_type": "execute_result"
    }
   ],
   "source": [
    "dic_copy = data.to_dict('records')\n",
    "l = []\n",
    "for i in dic_copy:\n",
    "    name = str(i['Name']).strip()\n",
    "    place = str(i['Place']).strip()\n",
    "\n",
    "    d = {'name':name,'place':place}\n",
    "    l.append(d)\n",
    "l"
   ]
  },
  {
   "cell_type": "code",
   "execution_count": 92,
   "metadata": {},
   "outputs": [
    {
     "data": {
      "text/html": [
       "<div>\n",
       "<style scoped>\n",
       "    .dataframe tbody tr th:only-of-type {\n",
       "        vertical-align: middle;\n",
       "    }\n",
       "\n",
       "    .dataframe tbody tr th {\n",
       "        vertical-align: top;\n",
       "    }\n",
       "\n",
       "    .dataframe thead th {\n",
       "        text-align: right;\n",
       "    }\n",
       "</style>\n",
       "<table border=\"1\" class=\"dataframe\">\n",
       "  <thead>\n",
       "    <tr style=\"text-align: right;\">\n",
       "      <th></th>\n",
       "      <th>parks</th>\n",
       "      <th>playgrounds</th>\n",
       "      <th>sports</th>\n",
       "      <th>roading</th>\n",
       "      <th>resident</th>\n",
       "      <th>children</th>\n",
       "    </tr>\n",
       "  </thead>\n",
       "  <tbody>\n",
       "    <tr>\n",
       "      <th>0</th>\n",
       "      <td>strongly agree</td>\n",
       "      <td>disagree</td>\n",
       "      <td>very important</td>\n",
       "      <td>not important</td>\n",
       "      <td>3</td>\n",
       "      <td>0</td>\n",
       "    </tr>\n",
       "    <tr>\n",
       "      <th>1</th>\n",
       "      <td>agree</td>\n",
       "      <td>disagree</td>\n",
       "      <td>important</td>\n",
       "      <td>very important</td>\n",
       "      <td>3</td>\n",
       "      <td>2</td>\n",
       "    </tr>\n",
       "    <tr>\n",
       "      <th>2</th>\n",
       "      <td>strongly agree</td>\n",
       "      <td>strongly agree</td>\n",
       "      <td>very important</td>\n",
       "      <td>very important</td>\n",
       "      <td>1</td>\n",
       "      <td>1</td>\n",
       "    </tr>\n",
       "    <tr>\n",
       "      <th>3</th>\n",
       "      <td>strongly agree</td>\n",
       "      <td>agree</td>\n",
       "      <td>important</td>\n",
       "      <td>important</td>\n",
       "      <td>1</td>\n",
       "      <td>3</td>\n",
       "    </tr>\n",
       "    <tr>\n",
       "      <th>4</th>\n",
       "      <td>agree</td>\n",
       "      <td>agree</td>\n",
       "      <td>important</td>\n",
       "      <td>very important</td>\n",
       "      <td>3</td>\n",
       "      <td>3</td>\n",
       "    </tr>\n",
       "  </tbody>\n",
       "</table>\n",
       "</div>"
      ],
      "text/plain": [
       "            parks     playgrounds          sports         roading  resident  \\\n",
       "0  strongly agree        disagree  very important   not important         3   \n",
       "1           agree        disagree       important  very important         3   \n",
       "2  strongly agree  strongly agree  very important  very important         1   \n",
       "3  strongly agree           agree       important       important         1   \n",
       "4           agree           agree       important  very important         3   \n",
       "\n",
       "   children  \n",
       "0         0  \n",
       "1         2  \n",
       "2         1  \n",
       "3         3  \n",
       "4         3  "
      ]
     },
     "execution_count": 92,
     "metadata": {},
     "output_type": "execute_result"
    }
   ],
   "source": [
    "import pandas as pd\n",
    "df = pd.read_csv('categories_large.csv')\n",
    "df.head()"
   ]
  },
  {
   "cell_type": "code",
   "execution_count": 93,
   "metadata": {},
   "outputs": [
    {
     "name": "stdout",
     "output_type": "stream",
     "text": [
      "2.02 s ± 155 ms per loop (mean ± std. dev. of 7 runs, 1 loop each)\n"
     ]
    }
   ],
   "source": [
    "%%timeit\n",
    "e =[]\n",
    "for inx,row in df.iterrows():\n",
    "    parks = str(row['parks']).strip()\n",
    "    playgrounds = str(row['playgrounds']).strip()\n",
    "    sports = str(row['sports']).strip()\n",
    "    roading = str(row['roading']).strip()\n",
    "    resident = str(row['resident']).strip()\n",
    "    children = str(row['children']).strip()\n",
    "\n",
    "    ent = {\"parks\":parks,\"playgrounds\":playgrounds,\"sports\":sports,\"roading\":roading,\"resident\":resident,\"children\":children}\n",
    "    e.append(ent)\n",
    "e"
   ]
  },
  {
   "cell_type": "code",
   "execution_count": 42,
   "metadata": {},
   "outputs": [
    {
     "name": "stdout",
     "output_type": "stream",
     "text": [
      "         273170 function calls (273141 primitive calls) in 0.189 seconds\n",
      "\n",
      "   Ordered by: cumulative time\n",
      "\n",
      "   ncalls  tottime  percall  cumtime  percall filename:lineno(function)\n",
      "        1    0.000    0.000    0.189    0.189 C:\\Users\\ABDUL WAJITH\\AppData\\Local\\Temp\\ipykernel_14188\\714443217.py:4(dic_to_rec)\n",
      "        1    0.000    0.000    0.187    0.187 c:\\Users\\ABDUL WAJITH\\anaconda3\\lib\\site-packages\\pandas\\core\\frame.py:1443(to_dict)\n",
      "        1    0.037    0.037    0.185    0.185 c:\\Users\\ABDUL WAJITH\\anaconda3\\lib\\site-packages\\pandas\\core\\frame.py:1600(<listcomp>)\n",
      "    70000    0.038    0.000    0.116    0.000 c:\\Users\\ABDUL WAJITH\\anaconda3\\lib\\site-packages\\pandas\\core\\frame.py:1601(<genexpr>)\n",
      "    60000    0.056    0.000    0.078    0.000 c:\\Users\\ABDUL WAJITH\\anaconda3\\lib\\site-packages\\pandas\\core\\dtypes\\cast.py:137(maybe_box_datetimelike)\n",
      "    10001    0.029    0.000    0.029    0.000 c:\\Users\\ABDUL WAJITH\\anaconda3\\lib\\site-packages\\pandas\\core\\frame.py:1596(<genexpr>)\n",
      "   120576    0.023    0.000    0.023    0.000 {built-in method builtins.isinstance}\n",
      "        1    0.000    0.000    0.003    0.003 c:\\Users\\ABDUL WAJITH\\anaconda3\\lib\\site-packages\\pandas\\core\\frame.py:1724(from_records)\n",
      "    10000    0.002    0.000    0.002    0.000 {method 'items' of 'dict' objects}\n",
      "        1    0.000    0.000    0.002    0.002 c:\\Users\\ABDUL WAJITH\\anaconda3\\lib\\site-packages\\pandas\\core\\frame.py:1074(itertuples)\n",
      "        2    0.000    0.000    0.002    0.001 {method 'extend' of 'list' objects}\n",
      "        7    0.000    0.000    0.002    0.000 c:\\Users\\ABDUL WAJITH\\anaconda3\\lib\\site-packages\\pandas\\core\\frame.py:1145(<genexpr>)\n",
      "        6    0.000    0.000    0.002    0.000 c:\\Users\\ABDUL WAJITH\\anaconda3\\lib\\site-packages\\pandas\\core\\indexing.py:882(__getitem__)\n",
      "        6    0.000    0.000    0.002    0.000 c:\\Users\\ABDUL WAJITH\\anaconda3\\lib\\site-packages\\pandas\\core\\indexing.py:1448(_getitem_tuple)\n",
      "        1    0.000    0.000    0.001    0.001 c:\\Users\\ABDUL WAJITH\\anaconda3\\lib\\site-packages\\pandas\\core\\internals\\construction.py:62(arrays_to_mgr)\n",
      "        6    0.000    0.000    0.001    0.000 c:\\Users\\ABDUL WAJITH\\anaconda3\\lib\\site-packages\\pandas\\core\\indexing.py:782(_getitem_lowerdim)\n",
      "        6    0.000    0.000    0.001    0.000 c:\\Users\\ABDUL WAJITH\\anaconda3\\lib\\site-packages\\pandas\\core\\indexing.py:1479(_getitem_axis)\n",
      "        6    0.000    0.000    0.001    0.000 c:\\Users\\ABDUL WAJITH\\anaconda3\\lib\\site-packages\\pandas\\core\\frame.py:2934(_ixs)\n",
      "        1    0.000    0.000    0.001    0.001 c:\\Users\\ABDUL WAJITH\\anaconda3\\lib\\site-packages\\pandas\\core\\internals\\construction.py:333(_homogenize)\n",
      "        6    0.000    0.000    0.001    0.000 c:\\Users\\ABDUL WAJITH\\anaconda3\\lib\\site-packages\\pandas\\core\\construction.py:423(sanitize_array)\n",
      "        1    0.000    0.000    0.001    0.001 c:\\Users\\ABDUL WAJITH\\anaconda3\\lib\\site-packages\\pandas\\core\\internals\\construction.py:502(to_arrays)\n",
      "        1    0.000    0.000    0.001    0.001 c:\\Users\\ABDUL WAJITH\\anaconda3\\lib\\site-packages\\pandas\\core\\internals\\construction.py:613(_list_of_dict_to_arrays)\n",
      "        1    0.000    0.000    0.001    0.001 c:\\Users\\ABDUL WAJITH\\anaconda3\\lib\\site-packages\\pandas\\core\\internals\\construction.py:713(_convert_object_array)\n",
      "        1    0.000    0.000    0.001    0.001 c:\\Users\\ABDUL WAJITH\\anaconda3\\lib\\site-packages\\pandas\\core\\internals\\construction.py:736(<listcomp>)\n",
      "        6    0.000    0.000    0.001    0.000 c:\\Users\\ABDUL WAJITH\\anaconda3\\lib\\site-packages\\pandas\\core\\internals\\construction.py:730(convert)\n",
      "        1    0.000    0.000    0.001    0.001 c:\\Users\\ABDUL WAJITH\\anaconda3\\lib\\site-packages\\pandas\\core\\internals\\managers.py:1690(create_block_manager_from_arrays)\n",
      "       12    0.000    0.000    0.000    0.000 c:\\Users\\ABDUL WAJITH\\anaconda3\\lib\\site-packages\\pandas\\core\\dtypes\\cast.py:1379(maybe_cast_to_datetime)\n",
      "        1    0.000    0.000    0.000    0.000 c:\\Users\\ABDUL WAJITH\\anaconda3\\lib\\site-packages\\pandas\\core\\internals\\managers.py:1733(_form_blocks)\n",
      "        6    0.000    0.000    0.000    0.000 c:\\Users\\ABDUL WAJITH\\anaconda3\\lib\\site-packages\\pandas\\core\\indexes\\base.py:5836(ensure_index)\n",
      "        6    0.000    0.000    0.000    0.000 c:\\Users\\ABDUL WAJITH\\anaconda3\\lib\\site-packages\\pandas\\core\\construction.py:554(_try_cast)\n",
      "        6    0.000    0.000    0.000    0.000 c:\\Users\\ABDUL WAJITH\\anaconda3\\lib\\site-packages\\pandas\\core\\internals\\managers.py:998(iget)\n",
      "       12    0.000    0.000    0.000    0.000 c:\\Users\\ABDUL WAJITH\\anaconda3\\lib\\site-packages\\pandas\\core\\dtypes\\cast.py:1273(maybe_infer_to_datetimelike)\n",
      "        6    0.000    0.000    0.000    0.000 c:\\Users\\ABDUL WAJITH\\anaconda3\\lib\\site-packages\\pandas\\core\\frame.py:3306(_box_col_values)\n",
      "        6    0.000    0.000    0.000    0.000 c:\\Users\\ABDUL WAJITH\\anaconda3\\lib\\site-packages\\pandas\\core\\indexing.py:716(_has_valid_tuple)\n",
      "      2/1    0.000    0.000    0.000    0.000 c:\\Users\\ABDUL WAJITH\\anaconda3\\lib\\site-packages\\pandas\\core\\indexes\\base.py:250(__new__)\n",
      "       12    0.000    0.000    0.000    0.000 c:\\Users\\ABDUL WAJITH\\anaconda3\\lib\\site-packages\\pandas\\core\\indexing.py:1340(_validate_key)\n",
      "        7    0.000    0.000    0.000    0.000 c:\\Users\\ABDUL WAJITH\\anaconda3\\lib\\site-packages\\pandas\\core\\internals\\blocks.py:2672(get_block_type)\n",
      "        6    0.000    0.000    0.000    0.000 c:\\Users\\ABDUL WAJITH\\anaconda3\\lib\\site-packages\\pandas\\core\\series.py:238(__init__)\n",
      "        6    0.000    0.000    0.000    0.000 {pandas._libs.lib.maybe_convert_objects}\n",
      "      268    0.000    0.000    0.000    0.000 c:\\Users\\ABDUL WAJITH\\anaconda3\\lib\\site-packages\\pandas\\core\\dtypes\\generic.py:30(_check)\n",
      "       18    0.000    0.000    0.000    0.000 c:\\Users\\ABDUL WAJITH\\anaconda3\\lib\\site-packages\\pandas\\core\\common.py:75(is_bool_indexer)\n",
      "        1    0.000    0.000    0.000    0.000 c:\\Users\\ABDUL WAJITH\\anaconda3\\lib\\site-packages\\pandas\\core\\internals\\managers.py:1829(_simple_blockify)\n",
      "       12    0.000    0.000    0.000    0.000 c:\\Users\\ABDUL WAJITH\\anaconda3\\lib\\site-packages\\pandas\\core\\generic.py:5467(__setattr__)\n",
      "       12    0.000    0.000    0.000    0.000 c:\\Users\\ABDUL WAJITH\\anaconda3\\lib\\site-packages\\pandas\\core\\indexing.py:1426(_validate_integer)\n",
      "       30    0.000    0.000    0.000    0.000 c:\\Users\\ABDUL WAJITH\\anaconda3\\lib\\site-packages\\pandas\\core\\dtypes\\common.py:201(is_object_dtype)\n",
      "        7    0.000    0.000    0.000    0.000 c:\\Users\\ABDUL WAJITH\\anaconda3\\lib\\site-packages\\pandas\\core\\internals\\blocks.py:127(__init__)\n",
      "       37    0.000    0.000    0.000    0.000 c:\\Users\\ABDUL WAJITH\\anaconda3\\lib\\site-packages\\pandas\\core\\dtypes\\base.py:254(is_dtype)\n",
      "        6    0.000    0.000    0.000    0.000 c:\\Users\\ABDUL WAJITH\\anaconda3\\lib\\site-packages\\pandas\\core\\internals\\blocks.py:288(make_block_same_class)\n",
      "       48    0.000    0.000    0.000    0.000 {pandas._libs.lib.is_list_like}\n",
      "       45    0.000    0.000    0.000    0.000 c:\\Users\\ABDUL WAJITH\\anaconda3\\lib\\site-packages\\pandas\\core\\dtypes\\common.py:1610(_is_dtype_type)\n",
      "        6    0.000    0.000    0.000    0.000 c:\\Users\\ABDUL WAJITH\\anaconda3\\lib\\site-packages\\pandas\\core\\indexing.py:730(_is_nested_tuple_indexer)\n",
      "        1    0.000    0.000    0.000    0.000 c:\\Users\\ABDUL WAJITH\\anaconda3\\lib\\site-packages\\pandas\\core\\internals\\blocks.py:2721(make_block)\n",
      "  159/131    0.000    0.000    0.000    0.000 {built-in method builtins.len}\n",
      "       18    0.000    0.000    0.000    0.000 c:\\Users\\ABDUL WAJITH\\anaconda3\\lib\\site-packages\\pandas\\core\\generic.py:470(_get_axis)\n",
      "        6    0.000    0.000    0.000    0.000 c:\\Users\\ABDUL WAJITH\\anaconda3\\lib\\site-packages\\pandas\\core\\internals\\managers.py:157(blknos)\n",
      "        7    0.000    0.000    0.000    0.000 {pandas._libs.lib.infer_dtype}\n",
      "       31    0.000    0.000    0.000    0.000 c:\\Users\\ABDUL WAJITH\\anaconda3\\lib\\site-packages\\pandas\\core\\dtypes\\common.py:1470(is_extension_array_dtype)\n",
      "       14    0.000    0.000    0.000    0.000 c:\\Users\\ABDUL WAJITH\\anaconda3\\lib\\site-packages\\numpy\\core\\_dtype.py:321(_name_get)\n",
      "        1    0.000    0.000    0.000    0.000 c:\\Users\\ABDUL WAJITH\\anaconda3\\lib\\site-packages\\pandas\\core\\internals\\managers.py:232(_rebuild_blknos_and_blklocs)\n",
      "        6    0.000    0.000    0.000    0.000 c:\\Users\\ABDUL WAJITH\\anaconda3\\lib\\site-packages\\numpy\\core\\numeric.py:289(full)\n",
      "       18    0.000    0.000    0.000    0.000 c:\\Users\\ABDUL WAJITH\\anaconda3\\lib\\site-packages\\pandas\\core\\indexes\\base.py:4279(__getitem__)\n",
      "        8    0.000    0.000    0.000    0.000 {built-in method builtins.any}\n",
      "        6    0.000    0.000    0.000    0.000 c:\\Users\\ABDUL WAJITH\\anaconda3\\lib\\site-packages\\pandas\\core\\dtypes\\cast.py:1257(maybe_castable)\n",
      "        1    0.000    0.000    0.000    0.000 c:\\Users\\ABDUL WAJITH\\anaconda3\\lib\\site-packages\\pandas\\core\\internals\\construction.py:364(extract_index)\n",
      "       49    0.000    0.000    0.000    0.000 c:\\Users\\ABDUL WAJITH\\anaconda3\\lib\\abc.py:117(__instancecheck__)\n",
      "       11    0.000    0.000    0.000    0.000 c:\\Users\\ABDUL WAJITH\\anaconda3\\lib\\site-packages\\pandas\\core\\dtypes\\common.py:499(is_interval_dtype)\n",
      "        6    0.000    0.000    0.000    0.000 c:\\Users\\ABDUL WAJITH\\anaconda3\\lib\\site-packages\\pandas\\core\\construction.py:354(extract_array)\n",
      "        7    0.000    0.000    0.000    0.000 c:\\Users\\ABDUL WAJITH\\anaconda3\\lib\\site-packages\\pandas\\core\\generic.py:188(__init__)\n",
      "       18    0.000    0.000    0.000    0.000 c:\\Users\\ABDUL WAJITH\\anaconda3\\lib\\site-packages\\pandas\\core\\indexing.py:736(<genexpr>)\n",
      "      357    0.000    0.000    0.000    0.000 {built-in method builtins.getattr}\n",
      "        7    0.000    0.000    0.000    0.000 c:\\Users\\ABDUL WAJITH\\anaconda3\\lib\\site-packages\\pandas\\core\\base.py:796(__iter__)\n",
      "       11    0.000    0.000    0.000    0.000 c:\\Users\\ABDUL WAJITH\\anaconda3\\lib\\site-packages\\pandas\\core\\dtypes\\common.py:463(is_period_dtype)\n",
      "        1    0.000    0.000    0.000    0.000 {pandas._libs.lib.clean_index_list}\n",
      "       18    0.000    0.000    0.000    0.000 c:\\Users\\ABDUL WAJITH\\anaconda3\\lib\\site-packages\\pandas\\core\\dtypes\\inference.py:185(is_array_like)\n",
      "        6    0.000    0.000    0.000    0.000 c:\\Users\\ABDUL WAJITH\\anaconda3\\lib\\site-packages\\pandas\\core\\series.py:538(name)\n",
      "       10    0.000    0.000    0.000    0.000 c:\\Users\\ABDUL WAJITH\\anaconda3\\lib\\site-packages\\pandas\\core\\dtypes\\dtypes.py:1132(is_dtype)\n",
      "       11    0.000    0.000    0.000    0.000 c:\\Users\\ABDUL WAJITH\\anaconda3\\lib\\site-packages\\pandas\\core\\dtypes\\common.py:537(is_categorical_dtype)\n",
      "        7    0.000    0.000    0.000    0.000 c:\\Users\\ABDUL WAJITH\\anaconda3\\lib\\site-packages\\pandas\\core\\internals\\blocks.py:269(mgr_locs)\n",
      "       10    0.000    0.000    0.000    0.000 c:\\Users\\ABDUL WAJITH\\anaconda3\\lib\\site-packages\\pandas\\core\\dtypes\\dtypes.py:923(is_dtype)\n",
      "       31    0.000    0.000    0.000    0.000 c:\\Users\\ABDUL WAJITH\\anaconda3\\lib\\site-packages\\pandas\\core\\dtypes\\base.py:411(find)\n",
      "       49    0.000    0.000    0.000    0.000 {built-in method _abc._abc_instancecheck}\n",
      "        1    0.000    0.000    0.000    0.000 c:\\Users\\ABDUL WAJITH\\anaconda3\\lib\\site-packages\\pandas\\core\\internals\\managers.py:1860(_stack_arrays)\n",
      "        6    0.000    0.000    0.000    0.000 c:\\Users\\ABDUL WAJITH\\anaconda3\\lib\\site-packages\\pandas\\core\\indexing.py:1407(_is_scalar_access)\n",
      "        6    0.000    0.000    0.000    0.000 <__array_function__ internals>:2(copyto)\n",
      "       12    0.000    0.000    0.000    0.000 {pandas._libs.lib.infer_datetimelike_array}\n",
      "       12    0.000    0.000    0.000    0.000 c:\\Users\\ABDUL WAJITH\\anaconda3\\lib\\site-packages\\pandas\\core\\indexing.py:2340(is_label_like)\n",
      "        1    0.000    0.000    0.000    0.000 c:\\Users\\ABDUL WAJITH\\anaconda3\\lib\\site-packages\\pandas\\core\\indexes\\base.py:5947(default_index)\n",
      "        1    0.000    0.000    0.000    0.000 c:\\Users\\ABDUL WAJITH\\anaconda3\\lib\\site-packages\\pandas\\core\\internals\\managers.py:126(__init__)\n",
      "        6    0.000    0.000    0.000    0.000 c:\\Users\\ABDUL WAJITH\\anaconda3\\lib\\site-packages\\pandas\\core\\dtypes\\common.py:1743(validate_all_hashable)\n",
      "       14    0.000    0.000    0.000    0.000 c:\\Users\\ABDUL WAJITH\\anaconda3\\lib\\site-packages\\numpy\\core\\_dtype.py:24(_kind_name)\n",
      "        6    0.000    0.000    0.000    0.000 c:\\Users\\ABDUL WAJITH\\anaconda3\\lib\\site-packages\\pandas\\core\\series.py:488(name)\n",
      "        7    0.000    0.000    0.000    0.000 c:\\Users\\ABDUL WAJITH\\anaconda3\\lib\\site-packages\\pandas\\core\\dtypes\\common.py:388(is_datetime64tz_dtype)\n",
      "       18    0.000    0.000    0.000    0.000 c:\\Users\\ABDUL WAJITH\\anaconda3\\lib\\site-packages\\pandas\\core\\series.py:585(_values)\n",
      "        1    0.000    0.000    0.000    0.000 c:\\Users\\ABDUL WAJITH\\anaconda3\\lib\\site-packages\\pandas\\core\\indexes\\range.py:85(__new__)\n",
      "      155    0.000    0.000    0.000    0.000 {built-in method builtins.issubclass}\n",
      "       12    0.000    0.000    0.000    0.000 c:\\Users\\ABDUL WAJITH\\anaconda3\\lib\\site-packages\\pandas\\core\\indexers.py:52(is_list_like_indexer)\n",
      "        9    0.000    0.000    0.000    0.000 {built-in method builtins.all}\n",
      "        6    0.000    0.000    0.000    0.000 c:\\Users\\ABDUL WAJITH\\anaconda3\\lib\\site-packages\\pandas\\core\\generic.py:3409(_set_as_cached)\n",
      "        1    0.000    0.000    0.000    0.000 c:\\Users\\ABDUL WAJITH\\anaconda3\\lib\\site-packages\\pandas\\core\\indexes\\base.py:6023(_maybe_cast_data_without_dtype)\n",
      "        1    0.000    0.000    0.000    0.000 c:\\Users\\ABDUL WAJITH\\anaconda3\\lib\\site-packages\\pandas\\core\\indexes\\base.py:1764(is_unique)\n",
      "       12    0.000    0.000    0.000    0.000 c:\\Users\\ABDUL WAJITH\\anaconda3\\lib\\site-packages\\pandas\\core\\indexing.py:759(_validate_key_length)\n",
      "        1    0.000    0.000    0.000    0.000 c:\\Users\\ABDUL WAJITH\\anaconda3\\lib\\site-packages\\pandas\\core\\internals\\managers.py:318(_verify_integrity)\n",
      "        6    0.000    0.000    0.000    0.000 c:\\Users\\ABDUL WAJITH\\anaconda3\\lib\\site-packages\\pandas\\core\\internals\\managers.py:1545(__init__)\n",
      "        7    0.000    0.000    0.000    0.000 c:\\Users\\ABDUL WAJITH\\anaconda3\\lib\\site-packages\\pandas\\core\\dtypes\\common.py:703(is_integer_dtype)\n",
      "        7    0.000    0.000    0.000    0.000 c:\\Users\\ABDUL WAJITH\\anaconda3\\lib\\site-packages\\pandas\\core\\dtypes\\common.py:231(is_sparse)\n",
      "       18    0.000    0.000    0.000    0.000 c:\\Users\\ABDUL WAJITH\\anaconda3\\lib\\site-packages\\pandas\\core\\indexing.py:884(<genexpr>)\n",
      "       10    0.000    0.000    0.000    0.000 {built-in method numpy.empty}\n",
      "       21    0.000    0.000    0.000    0.000 c:\\Users\\ABDUL WAJITH\\anaconda3\\lib\\site-packages\\pandas\\core\\indexes\\base.py:600(__len__)\n",
      "       18    0.000    0.000    0.000    0.000 c:\\Users\\ABDUL WAJITH\\anaconda3\\lib\\site-packages\\pandas\\core\\internals\\managers.py:1626(internal_values)\n",
      "        2    0.000    0.000    0.000    0.000 c:\\Users\\ABDUL WAJITH\\anaconda3\\lib\\site-packages\\pandas\\core\\dtypes\\common.py:1341(is_bool_dtype)\n",
      "        1    0.000    0.000    0.000    0.000 c:\\Users\\ABDUL WAJITH\\anaconda3\\lib\\site-packages\\numpy\\core\\_asarray.py:22(require)\n",
      "        3    0.000    0.000    0.000    0.000 c:\\Users\\ABDUL WAJITH\\anaconda3\\lib\\site-packages\\pandas\\core\\internals\\managers.py:206(shape)\n",
      "       15    0.000    0.000    0.000    0.000 c:\\Users\\ABDUL WAJITH\\anaconda3\\lib\\site-packages\\pandas\\core\\dtypes\\common.py:1769(pandas_dtype)\n",
      "        6    0.000    0.000    0.000    0.000 {built-in method numpy.core._multiarray_umath.implement_array_function}\n",
      "       18    0.000    0.000    0.000    0.000 c:\\Users\\ABDUL WAJITH\\anaconda3\\lib\\site-packages\\pandas\\core\\common.py:129(cast_scalar_indexer)\n",
      "       34    0.000    0.000    0.000    0.000 c:\\Users\\ABDUL WAJITH\\anaconda3\\lib\\site-packages\\pandas\\core\\dtypes\\common.py:187(<lambda>)\n",
      "        1    0.000    0.000    0.000    0.000 c:\\Users\\ABDUL WAJITH\\anaconda3\\lib\\site-packages\\pandas\\core\\frame.py:502(__init__)\n",
      "       12    0.000    0.000    0.000    0.000 c:\\Users\\ABDUL WAJITH\\anaconda3\\lib\\site-packages\\pandas\\core\\dtypes\\common.py:1762(<genexpr>)\n",
      "        1    0.000    0.000    0.000    0.000 c:\\Users\\ABDUL WAJITH\\anaconda3\\lib\\site-packages\\pandas\\core\\internals\\managers.py:991(_consolidate_inplace)\n",
      "       20    0.000    0.000    0.000    0.000 {built-in method numpy.array}\n",
      "        7    0.000    0.000    0.000    0.000 c:\\Users\\ABDUL WAJITH\\anaconda3\\lib\\site-packages\\pandas\\core\\flags.py:47(__init__)\n",
      "        6    0.000    0.000    0.000    0.000 c:\\Users\\ABDUL WAJITH\\anaconda3\\lib\\site-packages\\pandas\\core\\internals\\blocks.py:351(iget)\n",
      "        6    0.000    0.000    0.000    0.000 c:\\Users\\ABDUL WAJITH\\anaconda3\\lib\\site-packages\\pandas\\core\\series.py:439(_set_axis)\n",
      "        1    0.000    0.000    0.000    0.000 {method 'any' of 'numpy.ndarray' objects}\n",
      "        8    0.000    0.000    0.000    0.000 <frozen importlib._bootstrap>:1033(_handle_fromlist)\n",
      "        4    0.000    0.000    0.000    0.000 c:\\Users\\ABDUL WAJITH\\anaconda3\\lib\\site-packages\\pandas\\core\\indexes\\base.py:5953(maybe_extract_name)\n",
      "        1    0.000    0.000    0.000    0.000 {pandas._libs.lib.dicts_to_array}\n",
      "        1    0.000    0.000    0.000    0.000 c:\\Users\\ABDUL WAJITH\\anaconda3\\lib\\site-packages\\pandas\\core\\indexes\\base.py:574(_engine)\n",
      "        3    0.000    0.000    0.000    0.000 {built-in method numpy.arange}\n",
      "        6    0.000    0.000    0.000    0.000 c:\\Users\\ABDUL WAJITH\\anaconda3\\lib\\site-packages\\pandas\\core\\generic.py:5449(__getattr__)\n",
      "       14    0.000    0.000    0.000    0.000 {built-in method numpy.asarray}\n",
      "        1    0.000    0.000    0.000    0.000 c:\\Users\\ABDUL WAJITH\\anaconda3\\lib\\site-packages\\numpy\\core\\_methods.py:54(_any)\n",
      "        1    0.000    0.000    0.000    0.000 c:\\Users\\ABDUL WAJITH\\anaconda3\\lib\\site-packages\\pandas\\core\\internals\\managers.py:681(is_consolidated)\n",
      "        1    0.000    0.000    0.000    0.000 {pandas._libs.lib.fast_unique_multiple_list_gen}\n",
      "        6    0.000    0.000    0.000    0.000 c:\\Users\\ABDUL WAJITH\\anaconda3\\lib\\site-packages\\pandas\\core\\internals\\managers.py:1863(_asarray_compat)\n",
      "        1    0.000    0.000    0.000    0.000 c:\\Users\\ABDUL WAJITH\\anaconda3\\lib\\site-packages\\pandas\\core\\indexes\\range.py:133(_simple_new)\n",
      "        9    0.000    0.000    0.000    0.000 c:\\Users\\ABDUL WAJITH\\anaconda3\\lib\\site-packages\\pandas\\core\\internals\\managers.py:208(<genexpr>)\n",
      "       10    0.000    0.000    0.000    0.000 c:\\Users\\ABDUL WAJITH\\anaconda3\\lib\\site-packages\\pandas\\core\\dtypes\\inference.py:322(is_hashable)\n",
      "        1    0.000    0.000    0.000    0.000 c:\\Users\\ABDUL WAJITH\\anaconda3\\lib\\site-packages\\pandas\\core\\indexes\\base.py:425(_simple_new)\n",
      "        1    0.000    0.000    0.000    0.000 c:\\Users\\ABDUL WAJITH\\anaconda3\\lib\\site-packages\\pandas\\core\\common.py:334(standardize_mapping)\n",
      "        1    0.000    0.000    0.000    0.000 c:\\Users\\ABDUL WAJITH\\anaconda3\\lib\\site-packages\\pandas\\core\\dtypes\\cast.py:1617(construct_1d_object_array_from_listlike)\n",
      "        6    0.000    0.000    0.000    0.000 c:\\Users\\ABDUL WAJITH\\anaconda3\\lib\\site-packages\\pandas\\core\\generic.py:569(ndim)\n",
      "       18    0.000    0.000    0.000    0.000 c:\\Users\\ABDUL WAJITH\\anaconda3\\lib\\site-packages\\pandas\\core\\generic.py:456(_get_axis_number)\n",
      "        2    0.000    0.000    0.000    0.000 c:\\Users\\ABDUL WAJITH\\anaconda3\\lib\\site-packages\\pandas\\core\\common.py:198(asarray_tuplesafe)\n",
      "        1    0.000    0.000    0.000    0.000 {method 'reduce' of 'numpy.ufunc' objects}\n",
      "       34    0.000    0.000    0.000    0.000 c:\\Users\\ABDUL WAJITH\\anaconda3\\lib\\site-packages\\pandas\\core\\dtypes\\common.py:185(classes)\n",
      "        5    0.000    0.000    0.000    0.000 c:\\Users\\ABDUL WAJITH\\anaconda3\\lib\\site-packages\\pandas\\core\\internals\\blocks.py:2515(_maybe_coerce_values)\n",
      "        1    0.000    0.000    0.000    0.000 c:\\Users\\ABDUL WAJITH\\anaconda3\\lib\\site-packages\\pandas\\core\\internals\\managers.py:689(_consolidate_check)\n",
      "        2    0.000    0.000    0.000    0.000 c:\\Users\\ABDUL WAJITH\\anaconda3\\lib\\site-packages\\pandas\\core\\dtypes\\common.py:757(is_signed_integer_dtype)\n",
      "        6    0.000    0.000    0.000    0.000 c:\\Users\\ABDUL WAJITH\\anaconda3\\lib\\site-packages\\pandas\\core\\common.py:268(is_null_slice)\n",
      "        6    0.000    0.000    0.000    0.000 c:\\Users\\ABDUL WAJITH\\anaconda3\\lib\\site-packages\\pandas\\core\\dtypes\\common.py:573(is_string_dtype)\n",
      "       12    0.000    0.000    0.000    0.000 c:\\Users\\ABDUL WAJITH\\anaconda3\\lib\\site-packages\\pandas\\core\\common.py:317(apply_if_callable)\n",
      "        1    0.000    0.000    0.000    0.000 c:\\Users\\ABDUL WAJITH\\anaconda3\\lib\\site-packages\\pandas\\core\\indexes\\base.py:5969(_maybe_cast_with_dtype)\n",
      "        6    0.000    0.000    0.000    0.000 c:\\Users\\ABDUL WAJITH\\anaconda3\\lib\\site-packages\\pandas\\core\\frame.py:628(axes)\n",
      "       28    0.000    0.000    0.000    0.000 {built-in method builtins.hasattr}\n",
      "        3    0.000    0.000    0.000    0.000 c:\\Users\\ABDUL WAJITH\\anaconda3\\lib\\site-packages\\pandas\\core\\dtypes\\common.py:1307(is_float_dtype)\n",
      "        1    0.000    0.000    0.000    0.000 c:\\Users\\ABDUL WAJITH\\anaconda3\\lib\\site-packages\\pandas\\core\\internals\\construction.py:655(_validate_or_indexify_columns)\n",
      "        6    0.000    0.000    0.000    0.000 c:\\Users\\ABDUL WAJITH\\anaconda3\\lib\\site-packages\\pandas\\core\\dtypes\\cast.py:1642(construct_1d_ndarray_preserving_na)\n",
      "        9    0.000    0.000    0.000    0.000 c:\\Users\\ABDUL WAJITH\\anaconda3\\lib\\site-packages\\pandas\\core\\indexes\\range.py:747(__len__)\n",
      "        2    0.000    0.000    0.000    0.000 c:\\Users\\ABDUL WAJITH\\anaconda3\\lib\\site-packages\\pandas\\core\\dtypes\\common.py:813(is_unsigned_integer_dtype)\n",
      "        1    0.000    0.000    0.000    0.000 c:\\Users\\ABDUL WAJITH\\anaconda3\\lib\\site-packages\\pandas\\core\\base.py:772(tolist)\n",
      "        7    0.000    0.000    0.000    0.000 c:\\Users\\ABDUL WAJITH\\anaconda3\\lib\\site-packages\\pandas\\core\\internals\\blocks.py:161(_check_ndim)\n",
      "        1    0.000    0.000    0.000    0.000 c:\\Users\\ABDUL WAJITH\\anaconda3\\lib\\site-packages\\pandas\\core\\internals\\managers.py:1699(<listcomp>)\n",
      "        2    0.000    0.000    0.000    0.000 c:\\Users\\ABDUL WAJITH\\anaconda3\\lib\\site-packages\\pandas\\core\\dtypes\\common.py:1575(get_dtype)\n",
      "       14    0.000    0.000    0.000    0.000 c:\\Users\\ABDUL WAJITH\\anaconda3\\lib\\site-packages\\numpy\\core\\_dtype.py:307(_name_includes_bit_suffix)\n",
      "       11    0.000    0.000    0.000    0.000 c:\\Users\\ABDUL WAJITH\\anaconda3\\lib\\site-packages\\pandas\\core\\dtypes\\common.py:195(<lambda>)\n",
      "        4    0.000    0.000    0.000    0.000 c:\\Users\\ABDUL WAJITH\\anaconda3\\lib\\site-packages\\pandas\\core\\dtypes\\common.py:429(is_timedelta64_dtype)\n",
      "       20    0.000    0.000    0.000    0.000 {pandas._libs.lib.is_scalar}\n",
      "        2    0.000    0.000    0.000    0.000 c:\\Users\\ABDUL WAJITH\\anaconda3\\lib\\site-packages\\pandas\\core\\internals\\construction.py:641(<genexpr>)\n",
      "        7    0.000    0.000    0.000    0.000 c:\\Users\\ABDUL WAJITH\\anaconda3\\lib\\site-packages\\pandas\\core\\internals\\managers.py:210(ndim)\n",
      "        1    0.000    0.000    0.000    0.000 c:\\Users\\ABDUL WAJITH\\anaconda3\\lib\\site-packages\\numpy\\core\\_asarray.py:111(<setcomp>)\n",
      "       18    0.000    0.000    0.000    0.000 {pandas._libs.lib.is_integer}\n",
      "        6    0.000    0.000    0.000    0.000 c:\\Users\\ABDUL WAJITH\\anaconda3\\lib\\site-packages\\pandas\\core\\indexing.py:103(iloc)\n",
      "        6    0.000    0.000    0.000    0.000 c:\\Users\\ABDUL WAJITH\\anaconda3\\lib\\contextlib.py:376(__init__)\n",
      "       19    0.000    0.000    0.000    0.000 {method 'append' of 'list' objects}\n",
      "       18    0.000    0.000    0.000    0.000 {pandas._libs.lib.is_float}\n",
      "       18    0.000    0.000    0.000    0.000 c:\\Users\\ABDUL WAJITH\\anaconda3\\lib\\site-packages\\pandas\\core\\internals\\managers.py:1588(_block)\n",
      "        2    0.000    0.000    0.000    0.000 {method 'fill' of 'numpy.ndarray' objects}\n",
      "        1    0.000    0.000    0.000    0.000 c:\\Users\\ABDUL WAJITH\\anaconda3\\lib\\site-packages\\pandas\\core\\common.py:170(all_none)\n",
      "        1    0.000    0.000    0.000    0.000 c:\\Users\\ABDUL WAJITH\\anaconda3\\lib\\site-packages\\pandas\\core\\indexes\\base.py:1239(name)\n",
      "        4    0.000    0.000    0.000    0.000 c:\\Users\\ABDUL WAJITH\\anaconda3\\lib\\site-packages\\pandas\\core\\dtypes\\common.py:912(is_datetime64_any_dtype)\n",
      "       11    0.000    0.000    0.000    0.000 c:\\Users\\ABDUL WAJITH\\anaconda3\\lib\\site-packages\\pandas\\core\\dtypes\\common.py:190(classes_and_not_datetimelike)\n",
      "        2    0.000    0.000    0.000    0.000 c:\\Users\\ABDUL WAJITH\\anaconda3\\lib\\site-packages\\pandas\\core\\indexes\\base.py:563(_reset_identity)\n",
      "       10    0.000    0.000    0.000    0.000 {built-in method builtins.hash}\n",
      "        1    0.000    0.000    0.000    0.000 c:\\Users\\ABDUL WAJITH\\anaconda3\\lib\\abc.py:121(__subclasscheck__)\n",
      "       10    0.000    0.000    0.000    0.000 c:\\Users\\ABDUL WAJITH\\anaconda3\\lib\\site-packages\\pandas\\core\\internals\\blocks.py:265(mgr_locs)\n",
      "       12    0.000    0.000    0.000    0.000 {pandas._libs.algos.ensure_object}\n",
      "        1    0.000    0.000    0.000    0.000 {built-in method builtins.sum}\n",
      "       18    0.000    0.000    0.000    0.000 c:\\Users\\ABDUL WAJITH\\anaconda3\\lib\\site-packages\\pandas\\core\\internals\\blocks.py:233(internal_values)\n",
      "        1    0.000    0.000    0.000    0.000 c:\\Users\\ABDUL WAJITH\\anaconda3\\lib\\site-packages\\pandas\\core\\internals\\managers.py:690(<listcomp>)\n",
      "        6    0.000    0.000    0.000    0.000 c:\\Users\\ABDUL WAJITH\\anaconda3\\lib\\site-packages\\pandas\\core\\internals\\managers.py:173(blklocs)\n",
      "        1    0.000    0.000    0.000    0.000 c:\\Users\\ABDUL WAJITH\\anaconda3\\lib\\site-packages\\pandas\\core\\internals\\managers.py:132(<listcomp>)\n",
      "       12    0.000    0.000    0.000    0.000 {built-in method builtins.callable}\n",
      "        1    0.000    0.000    0.000    0.000 c:\\Users\\ABDUL WAJITH\\anaconda3\\lib\\inspect.py:73(isclass)\n",
      "        2    0.000    0.000    0.000    0.000 c:\\Users\\ABDUL WAJITH\\anaconda3\\lib\\site-packages\\pandas\\core\\internals\\construction.py:642(<genexpr>)\n",
      "        2    0.000    0.000    0.000    0.000 c:\\Users\\ABDUL WAJITH\\anaconda3\\lib\\site-packages\\pandas\\core\\dtypes\\common.py:157(ensure_python_int)\n",
      "        1    0.000    0.000    0.000    0.000 c:\\Users\\ABDUL WAJITH\\anaconda3\\lib\\site-packages\\pandas\\core\\indexes\\base.py:4096(_get_engine_target)\n",
      "        6    0.000    0.000    0.000    0.000 c:\\Users\\ABDUL WAJITH\\anaconda3\\lib\\site-packages\\numpy\\core\\multiarray.py:1071(copyto)\n",
      "        6    0.000    0.000    0.000    0.000 c:\\Users\\ABDUL WAJITH\\anaconda3\\lib\\site-packages\\pandas\\core\\indexes\\base.py:4070(_values)\n",
      "        1    0.000    0.000    0.000    0.000 c:\\Users\\ABDUL WAJITH\\anaconda3\\lib\\site-packages\\pandas\\core\\internals\\managers.py:1869(_shape_compat)\n",
      "        6    0.000    0.000    0.000    0.000 c:\\Users\\ABDUL WAJITH\\anaconda3\\lib\\contextlib.py:382(__exit__)\n",
      "        2    0.000    0.000    0.000    0.000 c:\\Users\\ABDUL WAJITH\\anaconda3\\lib\\site-packages\\pandas\\core\\internals\\managers.py:320(<genexpr>)\n",
      "        6    0.000    0.000    0.000    0.000 {pandas._libs.lib.item_from_zerodim}\n",
      "        6    0.000    0.000    0.000    0.000 c:\\Users\\ABDUL WAJITH\\anaconda3\\lib\\contextlib.py:379(__enter__)\n",
      "        2    0.000    0.000    0.000    0.000 c:\\Users\\ABDUL WAJITH\\anaconda3\\lib\\site-packages\\pandas\\core\\internals\\construction.py:686(<genexpr>)\n",
      "        6    0.000    0.000    0.000    0.000 c:\\Users\\ABDUL WAJITH\\anaconda3\\lib\\site-packages\\pandas\\core\\indexes\\numeric.py:164(_is_all_dates)\n",
      "        1    0.000    0.000    0.000    0.000 {built-in method _abc._abc_subclasscheck}\n",
      "        6    0.000    0.000    0.000    0.000 c:\\Users\\ABDUL WAJITH\\anaconda3\\lib\\site-packages\\pandas\\core\\base.py:397(ndim)\n",
      "        1    0.000    0.000    0.000    0.000 c:\\Users\\ABDUL WAJITH\\anaconda3\\lib\\site-packages\\pandas\\core\\indexes\\base.py:4393(equals)\n",
      "        3    0.000    0.000    0.000    0.000 c:\\Users\\ABDUL WAJITH\\anaconda3\\lib\\site-packages\\pandas\\core\\internals\\managers.py:1695(<genexpr>)\n",
      "        6    0.000    0.000    0.000    0.000 c:\\Users\\ABDUL WAJITH\\anaconda3\\lib\\site-packages\\pandas\\core\\dtypes\\common.py:1551(_is_dtype)\n",
      "        1    0.000    0.000    0.000    0.000 {method 'startswith' of 'str' objects}\n",
      "        2    0.000    0.000    0.000    0.000 {built-in method __new__ of type object at 0x00007FF836B8BC60}\n",
      "        1    0.000    0.000    0.000    0.000 c:\\Users\\ABDUL WAJITH\\anaconda3\\lib\\site-packages\\pandas\\core\\internals\\construction.py:647(<listcomp>)\n",
      "        1    0.000    0.000    0.000    0.000 {method 'tolist' of 'numpy.ndarray' objects}\n",
      "        6    0.000    0.000    0.000    0.000 {method 'strip' of 'str' objects}\n",
      "        1    0.000    0.000    0.000    0.000 c:\\Users\\ABDUL WAJITH\\anaconda3\\lib\\site-packages\\pandas\\core\\internals\\managers.py:253(items)\n",
      "        2    0.000    0.000    0.000    0.000 c:\\Users\\ABDUL WAJITH\\anaconda3\\lib\\site-packages\\pandas\\core\\common.py:174(<genexpr>)\n",
      "        2    0.000    0.000    0.000    0.000 {pandas._libs.lib.is_iterator}\n",
      "        1    0.000    0.000    0.000    0.000 c:\\Users\\ABDUL WAJITH\\anaconda3\\lib\\site-packages\\pandas\\core\\internals\\blocks.py:343(shape)\n",
      "        1    0.000    0.000    0.000    0.000 c:\\Users\\ABDUL WAJITH\\anaconda3\\lib\\site-packages\\pandas\\core\\internals\\blocks.py:347(dtype)\n",
      "        1    0.000    0.000    0.000    0.000 {method 'disable' of '_lsprof.Profiler' objects}\n",
      "        1    0.000    0.000    0.000    0.000 {method 'upper' of 'str' objects}\n",
      "        2    0.000    0.000    0.000    0.000 c:\\Users\\ABDUL WAJITH\\anaconda3\\lib\\typing.py:2069(new_type)\n",
      "        1    0.000    0.000    0.000    0.000 c:\\Users\\ABDUL WAJITH\\anaconda3\\lib\\site-packages\\pandas\\core\\indexes\\base.py:532(is_)\n",
      "        2    0.000    0.000    0.000    0.000 c:\\Users\\ABDUL WAJITH\\anaconda3\\lib\\site-packages\\pandas\\core\\internals\\blocks.py:147(_maybe_coerce_values)\n",
      "        1    0.000    0.000    0.000    0.000 {method 'keys' of 'dict' objects}\n",
      "        1    0.000    0.000    0.000    0.000 {method 'lower' of 'str' objects}\n",
      "        1    0.000    0.000    0.000    0.000 c:\\Users\\ABDUL WAJITH\\anaconda3\\lib\\site-packages\\pandas\\core\\indexes\\numeric.py:78(_validate_dtype)\n",
      "        1    0.000    0.000    0.000    0.000 c:\\Users\\ABDUL WAJITH\\anaconda3\\lib\\site-packages\\pandas\\core\\indexes\\base.py:581(<lambda>)\n",
      "\n",
      "\n",
      "\n",
      "            parks playgrounds          sports        roading resident children\n",
      "0  strongly agree    disagree  very important  not important        3        0\n"
     ]
    }
   ],
   "source": [
    "import pandas as pd\n",
    "df = pd.read_csv('categories_large.csv')\n",
    "\n",
    "@profile\n",
    "def dic_to_rec(df):\n",
    "    dic_copy = df.to_dict('records')\n",
    "    l = []\n",
    "    for row in dic_copy:\n",
    "        parks = str(row['parks']).strip()\n",
    "        playgrounds = str(row['playgrounds']).strip()\n",
    "        sports = str(row['sports']).strip()\n",
    "        roading = str(row['roading']).strip()\n",
    "        resident = str(row['resident']).strip()\n",
    "        children = str(row['children']).strip()\n",
    "\n",
    "        ent = {\"parks\":parks,\"playgrounds\":playgrounds,\"sports\":sports,\"roading\":roading,\"resident\":resident,\"children\":children}\n",
    "        l.append(ent)\n",
    "\n",
    "        df_master_o = pd.DataFrame.from_records(l)\n",
    "        return df_master_o\n",
    "\n",
    "print(dic_to_rec(df))"
   ]
  },
  {
   "cell_type": "code",
   "execution_count": 43,
   "metadata": {},
   "outputs": [],
   "source": [
    "import cProfile, pstats, io\n",
    "\n",
    "\n",
    "\n",
    "def profile(fnc):\n",
    "    \n",
    "    \"\"\"A decorator that uses cProfile to profile a function\"\"\"\n",
    "    \n",
    "    def inner(*args, **kwargs):\n",
    "        \n",
    "        pr = cProfile.Profile()\n",
    "        pr.enable()\n",
    "        retval = fnc(*args, **kwargs)\n",
    "        pr.disable()\n",
    "        s = io.StringIO()\n",
    "        sortby = 'cumulative'\n",
    "        ps = pstats.Stats(pr, stream=s).sort_stats(sortby)\n",
    "        ps.print_stats()\n",
    "        print(s.getvalue())\n",
    "        return retval\n",
    "\n",
    "    return inner"
   ]
  },
  {
   "cell_type": "code",
   "execution_count": 44,
   "metadata": {},
   "outputs": [
    {
     "data": {
      "text/html": [
       "<div>\n",
       "<style scoped>\n",
       "    .dataframe tbody tr th:only-of-type {\n",
       "        vertical-align: middle;\n",
       "    }\n",
       "\n",
       "    .dataframe tbody tr th {\n",
       "        vertical-align: top;\n",
       "    }\n",
       "\n",
       "    .dataframe thead th {\n",
       "        text-align: right;\n",
       "    }\n",
       "</style>\n",
       "<table border=\"1\" class=\"dataframe\">\n",
       "  <thead>\n",
       "    <tr style=\"text-align: right;\">\n",
       "      <th></th>\n",
       "      <th>parks</th>\n",
       "      <th>playgrounds</th>\n",
       "      <th>sports</th>\n",
       "      <th>roading</th>\n",
       "      <th>resident</th>\n",
       "      <th>children</th>\n",
       "    </tr>\n",
       "  </thead>\n",
       "  <tbody>\n",
       "    <tr>\n",
       "      <th>0</th>\n",
       "      <td>strongly agree</td>\n",
       "      <td>disagree</td>\n",
       "      <td>very important</td>\n",
       "      <td>not important</td>\n",
       "      <td>3</td>\n",
       "      <td>0</td>\n",
       "    </tr>\n",
       "    <tr>\n",
       "      <th>1</th>\n",
       "      <td>agree</td>\n",
       "      <td>disagree</td>\n",
       "      <td>important</td>\n",
       "      <td>very important</td>\n",
       "      <td>3</td>\n",
       "      <td>2</td>\n",
       "    </tr>\n",
       "    <tr>\n",
       "      <th>2</th>\n",
       "      <td>strongly agree</td>\n",
       "      <td>strongly agree</td>\n",
       "      <td>very important</td>\n",
       "      <td>very important</td>\n",
       "      <td>1</td>\n",
       "      <td>1</td>\n",
       "    </tr>\n",
       "    <tr>\n",
       "      <th>3</th>\n",
       "      <td>strongly agree</td>\n",
       "      <td>agree</td>\n",
       "      <td>important</td>\n",
       "      <td>important</td>\n",
       "      <td>1</td>\n",
       "      <td>3</td>\n",
       "    </tr>\n",
       "    <tr>\n",
       "      <th>4</th>\n",
       "      <td>agree</td>\n",
       "      <td>agree</td>\n",
       "      <td>important</td>\n",
       "      <td>very important</td>\n",
       "      <td>3</td>\n",
       "      <td>3</td>\n",
       "    </tr>\n",
       "  </tbody>\n",
       "</table>\n",
       "</div>"
      ],
      "text/plain": [
       "            parks     playgrounds          sports         roading  resident  \\\n",
       "0  strongly agree        disagree  very important   not important         3   \n",
       "1           agree        disagree       important  very important         3   \n",
       "2  strongly agree  strongly agree  very important  very important         1   \n",
       "3  strongly agree           agree       important       important         1   \n",
       "4           agree           agree       important  very important         3   \n",
       "\n",
       "   children  \n",
       "0         0  \n",
       "1         2  \n",
       "2         1  \n",
       "3         3  \n",
       "4         3  "
      ]
     },
     "execution_count": 44,
     "metadata": {},
     "output_type": "execute_result"
    }
   ],
   "source": [
    "df.head()"
   ]
  },
  {
   "cell_type": "code",
   "execution_count": 45,
   "metadata": {},
   "outputs": [],
   "source": [
    "import numpy as np"
   ]
  },
  {
   "cell_type": "code",
   "execution_count": 46,
   "metadata": {},
   "outputs": [
    {
     "name": "stdout",
     "output_type": "stream",
     "text": [
      "CPU times: total: 15.6 ms\n",
      "Wall time: 5.98 ms\n"
     ]
    },
    {
     "data": {
      "text/html": [
       "<div>\n",
       "<style scoped>\n",
       "    .dataframe tbody tr th:only-of-type {\n",
       "        vertical-align: middle;\n",
       "    }\n",
       "\n",
       "    .dataframe tbody tr th {\n",
       "        vertical-align: top;\n",
       "    }\n",
       "\n",
       "    .dataframe thead th {\n",
       "        text-align: right;\n",
       "    }\n",
       "</style>\n",
       "<table border=\"1\" class=\"dataframe\">\n",
       "  <thead>\n",
       "    <tr style=\"text-align: right;\">\n",
       "      <th></th>\n",
       "      <th>parks</th>\n",
       "      <th>playgrounds</th>\n",
       "      <th>sports</th>\n",
       "      <th>roading</th>\n",
       "      <th>resident</th>\n",
       "      <th>children</th>\n",
       "      <th>status</th>\n",
       "    </tr>\n",
       "  </thead>\n",
       "  <tbody>\n",
       "    <tr>\n",
       "      <th>0</th>\n",
       "      <td>strongly agree</td>\n",
       "      <td>disagree</td>\n",
       "      <td>very important</td>\n",
       "      <td>not important</td>\n",
       "      <td>3</td>\n",
       "      <td>0</td>\n",
       "      <td>Great</td>\n",
       "    </tr>\n",
       "    <tr>\n",
       "      <th>1</th>\n",
       "      <td>agree</td>\n",
       "      <td>disagree</td>\n",
       "      <td>important</td>\n",
       "      <td>very important</td>\n",
       "      <td>3</td>\n",
       "      <td>2</td>\n",
       "      <td>NA</td>\n",
       "    </tr>\n",
       "    <tr>\n",
       "      <th>2</th>\n",
       "      <td>strongly agree</td>\n",
       "      <td>strongly agree</td>\n",
       "      <td>very important</td>\n",
       "      <td>very important</td>\n",
       "      <td>1</td>\n",
       "      <td>1</td>\n",
       "      <td>Great</td>\n",
       "    </tr>\n",
       "    <tr>\n",
       "      <th>3</th>\n",
       "      <td>strongly agree</td>\n",
       "      <td>agree</td>\n",
       "      <td>important</td>\n",
       "      <td>important</td>\n",
       "      <td>1</td>\n",
       "      <td>3</td>\n",
       "      <td>NA</td>\n",
       "    </tr>\n",
       "    <tr>\n",
       "      <th>4</th>\n",
       "      <td>agree</td>\n",
       "      <td>agree</td>\n",
       "      <td>important</td>\n",
       "      <td>very important</td>\n",
       "      <td>3</td>\n",
       "      <td>3</td>\n",
       "      <td>NA</td>\n",
       "    </tr>\n",
       "  </tbody>\n",
       "</table>\n",
       "</div>"
      ],
      "text/plain": [
       "            parks     playgrounds          sports         roading  resident  \\\n",
       "0  strongly agree        disagree  very important   not important         3   \n",
       "1           agree        disagree       important  very important         3   \n",
       "2  strongly agree  strongly agree  very important  very important         1   \n",
       "3  strongly agree           agree       important       important         1   \n",
       "4           agree           agree       important  very important         3   \n",
       "\n",
       "   children status  \n",
       "0         0  Great  \n",
       "1         2     NA  \n",
       "2         1  Great  \n",
       "3         3     NA  \n",
       "4         3     NA  "
      ]
     },
     "execution_count": 46,
     "metadata": {},
     "output_type": "execute_result"
    }
   ],
   "source": [
    "%%time\n",
    "df['status'] =np.where(df['sports'].values == 'very important', 'Great','NA')\n",
    "df.head()"
   ]
  },
  {
   "cell_type": "code",
   "execution_count": 47,
   "metadata": {},
   "outputs": [],
   "source": [
    "def status(col1,col2):\n",
    "    if col1 ==\"not important\":\n",
    "        if col2 == 'disagree':\n",
    "            return 'Great'\n",
    "    else:\n",
    "        return 'Not great'"
   ]
  },
  {
   "cell_type": "code",
   "execution_count": 48,
   "metadata": {},
   "outputs": [
    {
     "name": "stdout",
     "output_type": "stream",
     "text": [
      "CPU times: total: 156 ms\n",
      "Wall time: 163 ms\n"
     ]
    },
    {
     "data": {
      "text/html": [
       "<div>\n",
       "<style scoped>\n",
       "    .dataframe tbody tr th:only-of-type {\n",
       "        vertical-align: middle;\n",
       "    }\n",
       "\n",
       "    .dataframe tbody tr th {\n",
       "        vertical-align: top;\n",
       "    }\n",
       "\n",
       "    .dataframe thead th {\n",
       "        text-align: right;\n",
       "    }\n",
       "</style>\n",
       "<table border=\"1\" class=\"dataframe\">\n",
       "  <thead>\n",
       "    <tr style=\"text-align: right;\">\n",
       "      <th></th>\n",
       "      <th>parks</th>\n",
       "      <th>playgrounds</th>\n",
       "      <th>sports</th>\n",
       "      <th>roading</th>\n",
       "      <th>resident</th>\n",
       "      <th>children</th>\n",
       "      <th>status</th>\n",
       "    </tr>\n",
       "  </thead>\n",
       "  <tbody>\n",
       "    <tr>\n",
       "      <th>0</th>\n",
       "      <td>strongly agree</td>\n",
       "      <td>disagree</td>\n",
       "      <td>very important</td>\n",
       "      <td>not important</td>\n",
       "      <td>3</td>\n",
       "      <td>0</td>\n",
       "      <td>Great</td>\n",
       "    </tr>\n",
       "    <tr>\n",
       "      <th>1</th>\n",
       "      <td>agree</td>\n",
       "      <td>disagree</td>\n",
       "      <td>important</td>\n",
       "      <td>very important</td>\n",
       "      <td>3</td>\n",
       "      <td>2</td>\n",
       "      <td>Not great</td>\n",
       "    </tr>\n",
       "    <tr>\n",
       "      <th>2</th>\n",
       "      <td>strongly agree</td>\n",
       "      <td>strongly agree</td>\n",
       "      <td>very important</td>\n",
       "      <td>very important</td>\n",
       "      <td>1</td>\n",
       "      <td>1</td>\n",
       "      <td>Not great</td>\n",
       "    </tr>\n",
       "    <tr>\n",
       "      <th>3</th>\n",
       "      <td>strongly agree</td>\n",
       "      <td>agree</td>\n",
       "      <td>important</td>\n",
       "      <td>important</td>\n",
       "      <td>1</td>\n",
       "      <td>3</td>\n",
       "      <td>Not great</td>\n",
       "    </tr>\n",
       "    <tr>\n",
       "      <th>4</th>\n",
       "      <td>agree</td>\n",
       "      <td>agree</td>\n",
       "      <td>important</td>\n",
       "      <td>very important</td>\n",
       "      <td>3</td>\n",
       "      <td>3</td>\n",
       "      <td>Not great</td>\n",
       "    </tr>\n",
       "  </tbody>\n",
       "</table>\n",
       "</div>"
      ],
      "text/plain": [
       "            parks     playgrounds          sports         roading  resident  \\\n",
       "0  strongly agree        disagree  very important   not important         3   \n",
       "1           agree        disagree       important  very important         3   \n",
       "2  strongly agree  strongly agree  very important  very important         1   \n",
       "3  strongly agree           agree       important       important         1   \n",
       "4           agree           agree       important  very important         3   \n",
       "\n",
       "   children     status  \n",
       "0         0      Great  \n",
       "1         2  Not great  \n",
       "2         1  Not great  \n",
       "3         3  Not great  \n",
       "4         3  Not great  "
      ]
     },
     "execution_count": 48,
     "metadata": {},
     "output_type": "execute_result"
    }
   ],
   "source": [
    "%%time\n",
    "def status_(df):\n",
    "    if df['roading'] ==\"not important\":\n",
    "        if df['playgrounds'] == 'disagree':\n",
    "            return 'Great'\n",
    "    else:\n",
    "        return 'Not great'\n",
    "df['status'] = df.apply(status_,axis=1)\n",
    "df.head()"
   ]
  },
  {
   "cell_type": "code",
   "execution_count": 50,
   "metadata": {},
   "outputs": [
    {
     "name": "stdout",
     "output_type": "stream",
     "text": [
      "CPU times: total: 15.6 ms\n",
      "Wall time: 9.97 ms\n"
     ]
    },
    {
     "data": {
      "text/html": [
       "<div>\n",
       "<style scoped>\n",
       "    .dataframe tbody tr th:only-of-type {\n",
       "        vertical-align: middle;\n",
       "    }\n",
       "\n",
       "    .dataframe tbody tr th {\n",
       "        vertical-align: top;\n",
       "    }\n",
       "\n",
       "    .dataframe thead th {\n",
       "        text-align: right;\n",
       "    }\n",
       "</style>\n",
       "<table border=\"1\" class=\"dataframe\">\n",
       "  <thead>\n",
       "    <tr style=\"text-align: right;\">\n",
       "      <th></th>\n",
       "      <th>parks</th>\n",
       "      <th>playgrounds</th>\n",
       "      <th>sports</th>\n",
       "      <th>roading</th>\n",
       "      <th>resident</th>\n",
       "      <th>children</th>\n",
       "      <th>status</th>\n",
       "    </tr>\n",
       "  </thead>\n",
       "  <tbody>\n",
       "    <tr>\n",
       "      <th>0</th>\n",
       "      <td>strongly agree</td>\n",
       "      <td>disagree</td>\n",
       "      <td>very important</td>\n",
       "      <td>not important</td>\n",
       "      <td>3</td>\n",
       "      <td>0</td>\n",
       "      <td>Great</td>\n",
       "    </tr>\n",
       "    <tr>\n",
       "      <th>1</th>\n",
       "      <td>agree</td>\n",
       "      <td>disagree</td>\n",
       "      <td>important</td>\n",
       "      <td>very important</td>\n",
       "      <td>3</td>\n",
       "      <td>2</td>\n",
       "      <td>Not great</td>\n",
       "    </tr>\n",
       "    <tr>\n",
       "      <th>2</th>\n",
       "      <td>strongly agree</td>\n",
       "      <td>strongly agree</td>\n",
       "      <td>very important</td>\n",
       "      <td>very important</td>\n",
       "      <td>1</td>\n",
       "      <td>1</td>\n",
       "      <td>Not great</td>\n",
       "    </tr>\n",
       "    <tr>\n",
       "      <th>3</th>\n",
       "      <td>strongly agree</td>\n",
       "      <td>agree</td>\n",
       "      <td>important</td>\n",
       "      <td>important</td>\n",
       "      <td>1</td>\n",
       "      <td>3</td>\n",
       "      <td>Not great</td>\n",
       "    </tr>\n",
       "    <tr>\n",
       "      <th>4</th>\n",
       "      <td>agree</td>\n",
       "      <td>agree</td>\n",
       "      <td>important</td>\n",
       "      <td>very important</td>\n",
       "      <td>3</td>\n",
       "      <td>3</td>\n",
       "      <td>Not great</td>\n",
       "    </tr>\n",
       "  </tbody>\n",
       "</table>\n",
       "</div>"
      ],
      "text/plain": [
       "            parks     playgrounds          sports         roading  resident  \\\n",
       "0  strongly agree        disagree  very important   not important         3   \n",
       "1           agree        disagree       important  very important         3   \n",
       "2  strongly agree  strongly agree  very important  very important         1   \n",
       "3  strongly agree           agree       important       important         1   \n",
       "4           agree           agree       important  very important         3   \n",
       "\n",
       "   children     status  \n",
       "0         0      Great  \n",
       "1         2  Not great  \n",
       "2         1  Not great  \n",
       "3         3  Not great  \n",
       "4         3  Not great  "
      ]
     },
     "execution_count": 50,
     "metadata": {},
     "output_type": "execute_result"
    }
   ],
   "source": [
    "%%time\n",
    "vecfunc = np.vectorize(status)\n",
    "df['status'] = vecfunc(df['roading'],df['playgrounds'])\n",
    "df.head()"
   ]
  },
  {
   "cell_type": "code",
   "execution_count": 56,
   "metadata": {},
   "outputs": [
    {
     "name": "stdout",
     "output_type": "stream",
     "text": [
      "CPU times: total: 15.6 ms\n",
      "Wall time: 17 ms\n"
     ]
    },
    {
     "data": {
      "text/plain": [
       "parks          object\n",
       "playgrounds    object\n",
       "sports         object\n",
       "roading        object\n",
       "resident        int64\n",
       "children       object\n",
       "status         object\n",
       "dtype: object"
      ]
     },
     "execution_count": 56,
     "metadata": {},
     "output_type": "execute_result"
    }
   ],
   "source": [
    "%%time\n",
    "def type_cast(col1):\n",
    "    col1 = col1.astype(str)\n",
    "    return col1\n",
    "\n",
    "\n",
    "#vecfunc = np.vectorize(type_cast)\n",
    "df['children'] = type_cast(df['children'])\n",
    "df.dtypes"
   ]
  },
  {
   "cell_type": "code",
   "execution_count": 57,
   "metadata": {},
   "outputs": [
    {
     "data": {
      "text/html": [
       "<div>\n",
       "<style scoped>\n",
       "    .dataframe tbody tr th:only-of-type {\n",
       "        vertical-align: middle;\n",
       "    }\n",
       "\n",
       "    .dataframe tbody tr th {\n",
       "        vertical-align: top;\n",
       "    }\n",
       "\n",
       "    .dataframe thead th {\n",
       "        text-align: right;\n",
       "    }\n",
       "</style>\n",
       "<table border=\"1\" class=\"dataframe\">\n",
       "  <thead>\n",
       "    <tr style=\"text-align: right;\">\n",
       "      <th></th>\n",
       "      <th>parks</th>\n",
       "      <th>playgrounds</th>\n",
       "      <th>sports</th>\n",
       "      <th>roading</th>\n",
       "      <th>resident</th>\n",
       "      <th>children</th>\n",
       "      <th>status</th>\n",
       "      <th>status1</th>\n",
       "    </tr>\n",
       "  </thead>\n",
       "  <tbody>\n",
       "    <tr>\n",
       "      <th>0</th>\n",
       "      <td>strongly agree</td>\n",
       "      <td>disagree</td>\n",
       "      <td>very important</td>\n",
       "      <td>not important</td>\n",
       "      <td>3</td>\n",
       "      <td>0</td>\n",
       "      <td>Great</td>\n",
       "      <td>Inequal</td>\n",
       "    </tr>\n",
       "    <tr>\n",
       "      <th>1</th>\n",
       "      <td>agree</td>\n",
       "      <td>disagree</td>\n",
       "      <td>important</td>\n",
       "      <td>very important</td>\n",
       "      <td>3</td>\n",
       "      <td>2</td>\n",
       "      <td>Not great</td>\n",
       "      <td>Inequal</td>\n",
       "    </tr>\n",
       "    <tr>\n",
       "      <th>2</th>\n",
       "      <td>strongly agree</td>\n",
       "      <td>strongly agree</td>\n",
       "      <td>very important</td>\n",
       "      <td>very important</td>\n",
       "      <td>1</td>\n",
       "      <td>1</td>\n",
       "      <td>Not great</td>\n",
       "      <td>Equal</td>\n",
       "    </tr>\n",
       "    <tr>\n",
       "      <th>3</th>\n",
       "      <td>strongly agree</td>\n",
       "      <td>agree</td>\n",
       "      <td>important</td>\n",
       "      <td>important</td>\n",
       "      <td>1</td>\n",
       "      <td>3</td>\n",
       "      <td>Not great</td>\n",
       "      <td>Equal</td>\n",
       "    </tr>\n",
       "    <tr>\n",
       "      <th>4</th>\n",
       "      <td>agree</td>\n",
       "      <td>agree</td>\n",
       "      <td>important</td>\n",
       "      <td>very important</td>\n",
       "      <td>3</td>\n",
       "      <td>3</td>\n",
       "      <td>Not great</td>\n",
       "      <td>Inequal</td>\n",
       "    </tr>\n",
       "  </tbody>\n",
       "</table>\n",
       "</div>"
      ],
      "text/plain": [
       "            parks     playgrounds          sports         roading  resident  \\\n",
       "0  strongly agree        disagree  very important   not important         3   \n",
       "1           agree        disagree       important  very important         3   \n",
       "2  strongly agree  strongly agree  very important  very important         1   \n",
       "3  strongly agree           agree       important       important         1   \n",
       "4           agree           agree       important  very important         3   \n",
       "\n",
       "  children     status  status1  \n",
       "0        0      Great  Inequal  \n",
       "1        2  Not great  Inequal  \n",
       "2        1  Not great    Equal  \n",
       "3        3  Not great    Equal  \n",
       "4        3  Not great  Inequal  "
      ]
     },
     "execution_count": 57,
     "metadata": {},
     "output_type": "execute_result"
    }
   ],
   "source": [
    "condition = [\n",
    "    df['sports'] == df['roading'],\n",
    "    df['sports'] != df['roading']\t\n",
    "]\n",
    "choices = ['Equal',\n",
    "            'Inequal']\n",
    "\n",
    "df['status1'] = np.select(condition,choices,default='NA')\n",
    "df.head()"
   ]
  },
  {
   "cell_type": "code",
   "execution_count": 71,
   "metadata": {},
   "outputs": [
    {
     "data": {
      "text/html": [
       "<div>\n",
       "<style scoped>\n",
       "    .dataframe tbody tr th:only-of-type {\n",
       "        vertical-align: middle;\n",
       "    }\n",
       "\n",
       "    .dataframe tbody tr th {\n",
       "        vertical-align: top;\n",
       "    }\n",
       "\n",
       "    .dataframe thead th {\n",
       "        text-align: right;\n",
       "    }\n",
       "</style>\n",
       "<table border=\"1\" class=\"dataframe\">\n",
       "  <thead>\n",
       "    <tr style=\"text-align: right;\">\n",
       "      <th></th>\n",
       "      <th>children</th>\n",
       "      <th>sports</th>\n",
       "    </tr>\n",
       "  </thead>\n",
       "  <tbody>\n",
       "    <tr>\n",
       "      <th>0</th>\n",
       "      <td>0</td>\n",
       "      <td>very important</td>\n",
       "    </tr>\n",
       "    <tr>\n",
       "      <th>1</th>\n",
       "      <td>2</td>\n",
       "      <td>important</td>\n",
       "    </tr>\n",
       "    <tr>\n",
       "      <th>2</th>\n",
       "      <td>1</td>\n",
       "      <td>very important</td>\n",
       "    </tr>\n",
       "    <tr>\n",
       "      <th>3</th>\n",
       "      <td>3</td>\n",
       "      <td>important</td>\n",
       "    </tr>\n",
       "    <tr>\n",
       "      <th>4</th>\n",
       "      <td>3</td>\n",
       "      <td>important</td>\n",
       "    </tr>\n",
       "    <tr>\n",
       "      <th>...</th>\n",
       "      <td>...</td>\n",
       "      <td>...</td>\n",
       "    </tr>\n",
       "    <tr>\n",
       "      <th>9995</th>\n",
       "      <td>3</td>\n",
       "      <td>very important</td>\n",
       "    </tr>\n",
       "    <tr>\n",
       "      <th>9996</th>\n",
       "      <td>2</td>\n",
       "      <td>very important</td>\n",
       "    </tr>\n",
       "    <tr>\n",
       "      <th>9997</th>\n",
       "      <td>1</td>\n",
       "      <td>not important</td>\n",
       "    </tr>\n",
       "    <tr>\n",
       "      <th>9998</th>\n",
       "      <td>3</td>\n",
       "      <td>not important</td>\n",
       "    </tr>\n",
       "    <tr>\n",
       "      <th>9999</th>\n",
       "      <td>2</td>\n",
       "      <td>not important</td>\n",
       "    </tr>\n",
       "  </tbody>\n",
       "</table>\n",
       "<p>10000 rows × 2 columns</p>\n",
       "</div>"
      ],
      "text/plain": [
       "     children          sports\n",
       "0           0  very important\n",
       "1           2       important\n",
       "2           1  very important\n",
       "3           3       important\n",
       "4           3       important\n",
       "...       ...             ...\n",
       "9995        3  very important\n",
       "9996        2  very important\n",
       "9997        1   not important\n",
       "9998        3   not important\n",
       "9999        2   not important\n",
       "\n",
       "[10000 rows x 2 columns]"
      ]
     },
     "execution_count": 71,
     "metadata": {},
     "output_type": "execute_result"
    }
   ],
   "source": [
    "df1 = df[['children','sports']]\n",
    "df1"
   ]
  },
  {
   "cell_type": "code",
   "execution_count": 69,
   "metadata": {},
   "outputs": [],
   "source": [
    "a,b,c = 50,78,37\n",
    "def abc(a,b,c):\n",
    "    dg = [a<24,b<50,c==37]\n",
    "    l = [{'A':1},{'C':'N'},{\"D\":4}]\n",
    "    c = np.select(dg,l)\n",
    "    return c"
   ]
  },
  {
   "cell_type": "code",
   "execution_count": 70,
   "metadata": {},
   "outputs": [
    {
     "data": {
      "text/plain": [
       "array({'D': 4}, dtype=object)"
      ]
     },
     "execution_count": 70,
     "metadata": {},
     "output_type": "execute_result"
    }
   ],
   "source": [
    "abc(a,b,c)"
   ]
  },
  {
   "cell_type": "code",
   "execution_count": null,
   "metadata": {},
   "outputs": [],
   "source": []
  }
 ],
 "metadata": {
  "kernelspec": {
   "display_name": "Python 3.9.12 ('base')",
   "language": "python",
   "name": "python3"
  },
  "language_info": {
   "codemirror_mode": {
    "name": "ipython",
    "version": 3
   },
   "file_extension": ".py",
   "mimetype": "text/x-python",
   "name": "python",
   "nbconvert_exporter": "python",
   "pygments_lexer": "ipython3",
   "version": "3.9.12"
  },
  "orig_nbformat": 4,
  "vscode": {
   "interpreter": {
    "hash": "1cbc55c5a6e242aa26c4444892c76c3fa137d09b0cc2c583a0044c6feee99c32"
   }
  }
 },
 "nbformat": 4,
 "nbformat_minor": 2
}
